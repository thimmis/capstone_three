{
  "cells": [
    {
      "cell_type": "markdown",
      "metadata": {
        "id": "MFA39um3CphA"
      },
      "source": [
        "# Model Comparison\n",
        "\n",
        "Now that a model has been trained and visual inspection done on performance between models it is time to measure the performance between models. To do this we shall be using the rouge-L to measure the similarity between the longest common subsequences of words found in the generated and target summaries. \n",
        "\n",
        "A rougeL score shall be given to each summary for both models."
      ]
    },
    {
      "cell_type": "code",
      "execution_count": null,
      "metadata": {
        "colab": {
          "base_uri": "https://localhost:8080/"
        },
        "id": "7rzug9bl7yIp",
        "outputId": "298d31ec-604c-4353-dc19-b685d61c547a"
      },
      "outputs": [
        {
          "name": "stdout",
          "output_type": "stream",
          "text": [
            "\u001b[K     |████████████████████████████████| 4.0 MB 7.6 MB/s \n",
            "\u001b[K     |████████████████████████████████| 77 kB 3.4 MB/s \n",
            "\u001b[K     |████████████████████████████████| 596 kB 55.0 MB/s \n",
            "\u001b[K     |████████████████████████████████| 6.6 MB 35.1 MB/s \n",
            "\u001b[K     |████████████████████████████████| 895 kB 15.2 MB/s \n",
            "\u001b[?25h"
          ]
        }
      ],
      "source": [
        "!pip install --quiet rouge-score transformers"
      ]
    },
    {
      "cell_type": "code",
      "execution_count": null,
      "metadata": {
        "colab": {
          "base_uri": "https://localhost:8080/"
        },
        "id": "JSwjtJK3BigJ",
        "outputId": "50ca9d87-fd2d-4bc0-ff49-067768688b0a"
      },
      "outputs": [
        {
          "name": "stdout",
          "output_type": "stream",
          "text": [
            "Mounted at /content/gdrive\n"
          ]
        }
      ],
      "source": [
        "from google.colab import drive\n",
        "drive.mount('/content/gdrive')"
      ]
    },
    {
      "cell_type": "code",
      "execution_count": null,
      "metadata": {
        "id": "DXIZQ4RgB9je"
      },
      "outputs": [],
      "source": [
        "import pandas as pd\n",
        "import torch\n",
        "import pathlib\n",
        "from sklearn.model_selection import train_test_split"
      ]
    },
    {
      "cell_type": "code",
      "execution_count": null,
      "metadata": {
        "id": "hw4CQ-TUBmlF"
      },
      "outputs": [],
      "source": [
        "datapath = pathlib.Path.cwd()/'gdrive/My Drive/Capstone_three/data/mtsamples'\n",
        "df = pd.read_json(datapath/'preprocessed2.jsonl', lines=True)"
      ]
    },
    {
      "cell_type": "code",
      "execution_count": null,
      "metadata": {
        "id": "EnK6J614Ebnx"
      },
      "outputs": [],
      "source": [
        "df_train, df_test = train_test_split(df, test_size=0.2, random_state=42)\n",
        "df_train.reset_index(drop=True, inplace=True)\n",
        "df_test.reset_index(drop=True, inplace=True)"
      ]
    },
    {
      "cell_type": "markdown",
      "metadata": {
        "id": "cyeyQ3mEmNB5"
      },
      "source": [
        "## The Models:\n",
        "\n",
        "Here I shall be comparing the performance of the t5-small model fine-tuned on the MTSamples data for 50 epochs vs. the baseline t5-small. To measure model performance I will be using the rougeL score which measures similarity between texts based on the longest common subsequence they share."
      ]
    },
    {
      "cell_type": "code",
      "execution_count": null,
      "metadata": {
        "colab": {
          "base_uri": "https://localhost:8080/",
          "height": 145,
          "referenced_widgets": [
            "71ae2e3866a14fb196b834485130931c",
            "9f68ac08a42b48499f6e3d9f5356c178",
            "83204aa068c7453c96b25df422b88419",
            "c6521ee0c55b4f23a9c70fc907a1d939",
            "aa9af1272e6446daa410aba2f1ce09b3",
            "c4abab1b0b764ea086c9a32dc8a87018",
            "605931e8d45f4f7582787dc6de44d7d5",
            "f5a87ee2d05c48a9876d78eb9ef6c323",
            "31ca3c56976a484b8ada0cf99fe5f148",
            "f65e333dd8814b098d9e58bcbfe7e5a0",
            "c52760cb1ade4e32ab53014379059a9e",
            "6ac8d3a9eb94489da030cd87257ba4ba",
            "abd05847c65c49289c7b565afc2c2980",
            "57b0f4ac9c1f41689f2662782ca928a1",
            "a0ab3017df7a47b5874f2228c4b64a50",
            "041d89ec48794043b068091e435b3515",
            "c975373b08cc4f87a6773dcb8d705e0d",
            "23823b2e7a774cae9bb20dea618872a1",
            "e7bf9eaa7dbb43218c074057d4a911dc",
            "a42316e7126342bf82fff60240971f8f",
            "675b2199d4df4890a1947dcc040833f9",
            "27df73ebcd1a459ab294c78a14be3bcb",
            "d4455baa777b422784c6925646ebfc4c",
            "bcc5f28c00ea4303888a12335af63557",
            "a5780ee2c9c540f19cbef8cef07510ac",
            "f145c919f1f34729a940a4f479944ec3",
            "e635716454f24b93bfb0b2ce904a45e4",
            "58605e884bd2458197bfa459e4626244",
            "0c090a292c514115ba439a52b061d449",
            "01ddbaa37b1e49e8bcd17061b24cab07",
            "60a4a4a6ad004e80a09c177cc88ad0c5",
            "ea45211c1f2f4cf6a3727d23b89e5c6e",
            "ee7e94af0e1e4b6a91e6902bb14bf069",
            "b805cb5861f742a885ec8c11bdf637b9",
            "29e6a981eacd4b71b28296c947228c2a",
            "40af33b33b1a4bea9487293e57260f21",
            "d674152f878041e7949279d4acf9fd2a",
            "563eb1b8120e4a53bf11238445a13886",
            "9bd46b015450428d96b79b87a6be0e9e",
            "98361a37de5f448db2435846b1e643eb",
            "630fe4a8225146b4abb3334ea350330f",
            "7ae58bf6b5d248ee9b54b7708e12a084",
            "f8b147a41988499dab8cd33e9d461659",
            "43ceb99e964948f0a35e0e8afb4e9da0"
          ]
        },
        "id": "yeIT2UujBoEW",
        "outputId": "15793511-e4f1-44c2-a64c-73c52d2d25d5"
      },
      "outputs": [
        {
          "data": {
            "application/vnd.jupyter.widget-view+json": {
              "model_id": "71ae2e3866a14fb196b834485130931c",
              "version_major": 2,
              "version_minor": 0
            },
            "text/plain": [
              "Downloading:   0%|          | 0.00/1.17k [00:00<?, ?B/s]"
            ]
          },
          "metadata": {},
          "output_type": "display_data"
        },
        {
          "data": {
            "application/vnd.jupyter.widget-view+json": {
              "model_id": "6ac8d3a9eb94489da030cd87257ba4ba",
              "version_major": 2,
              "version_minor": 0
            },
            "text/plain": [
              "Downloading:   0%|          | 0.00/231M [00:00<?, ?B/s]"
            ]
          },
          "metadata": {},
          "output_type": "display_data"
        },
        {
          "data": {
            "application/vnd.jupyter.widget-view+json": {
              "model_id": "d4455baa777b422784c6925646ebfc4c",
              "version_major": 2,
              "version_minor": 0
            },
            "text/plain": [
              "Downloading:   0%|          | 0.00/773k [00:00<?, ?B/s]"
            ]
          },
          "metadata": {},
          "output_type": "display_data"
        },
        {
          "data": {
            "application/vnd.jupyter.widget-view+json": {
              "model_id": "b805cb5861f742a885ec8c11bdf637b9",
              "version_major": 2,
              "version_minor": 0
            },
            "text/plain": [
              "Downloading:   0%|          | 0.00/1.32M [00:00<?, ?B/s]"
            ]
          },
          "metadata": {},
          "output_type": "display_data"
        }
      ],
      "source": [
        "from transformers import T5ForConditionalGeneration, T5TokenizerFast as T5Tokenizer\n",
        "base_model = T5ForConditionalGeneration.from_pretrained('t5-small')\n",
        "tokenizer = T5Tokenizer.from_pretrained('t5-small')\n",
        "ft_model = torch.load('/content/gdrive/MyDrive/Capstone_three/models/tuned_model.pkl')"
      ]
    },
    {
      "cell_type": "code",
      "execution_count": null,
      "metadata": {
        "id": "qiakXALdB0OC"
      },
      "outputs": [],
      "source": [
        "def summarize(text,model):\n",
        "    text_enc = tokenizer(\n",
        "        \"summarize:\"+text+tokenizer.eos_token,\n",
        "        max_length= 512,\n",
        "        padding=\"max_length\",\n",
        "        truncation=True,\n",
        "        return_attention_mask=True,\n",
        "        add_special_tokens=True,\n",
        "        return_tensors=\"pt\"\n",
        "    )\n",
        "    generated_ids = model.generate(\n",
        "        input_ids = text_enc['input_ids'],\n",
        "        attention_mask=text_enc['attention_mask'],\n",
        "        max_length=128,\n",
        "        num_beams=4,\n",
        "        repetition_penalty = 5.5,\n",
        "        length_penalty=1.1,\n",
        "        early_stopping=True   \n",
        "    )\n",
        "    predictions = [\n",
        "        tokenizer.decode(gen_id, skip_special_tokens=True, clean_up_tokenization_spaces=True)\n",
        "        for gen_id in generated_ids\n",
        "    ]\n",
        "\n",
        "    return \"\".join(predictions)\n",
        "    "
      ]
    },
    {
      "cell_type": "markdown",
      "metadata": {
        "id": "e1AMEDF4m0Lt"
      },
      "source": [
        "set up the scorer and generate predictions and scores for each row in the testing set."
      ]
    },
    {
      "cell_type": "code",
      "execution_count": null,
      "metadata": {
        "id": "TLO5AeNBGBMI"
      },
      "outputs": [],
      "source": [
        "from rouge_score import rouge_scorer\n",
        "scorer = rouge_scorer.RougeScorer(['rougeL'])"
      ]
    },
    {
      "cell_type": "code",
      "execution_count": null,
      "metadata": {
        "colab": {
          "background_save": true
        },
        "id": "nJ_LEVnaBsHw"
      },
      "outputs": [],
      "source": [
        "base_sums = []\n",
        "base_rouge = []\n",
        "ft_sums = []\n",
        "ft_rouge = []\n",
        "\n",
        "for item in df_test.index:\n",
        "    row = df_test.iloc[item]\n",
        "    bsum = summarize(row.input, base_model)\n",
        "    base_sums.append(bsum)\n",
        "    ftsum = summarize(row.input, ft_model)\n",
        "    ft_sums.append(ftsum)\n",
        "\n",
        "    brg = scorer.score(row.target,bsum)\n",
        "    base_rouge.append(brg['rougeL'].fmeasure)\n",
        "    ftrg = scorer.score(row.target,ftsum)\n",
        "    ft_rouge.append(ftrg['rougeL'].fmeasure)\n",
        "\n",
        "\n",
        "\n",
        "\n",
        "\n",
        "\n"
      ]
    },
    {
      "cell_type": "code",
      "execution_count": null,
      "metadata": {
        "colab": {
          "background_save": true
        },
        "id": "ilMT1lD7Yg0G"
      },
      "outputs": [],
      "source": [
        "sum_df = pd.DataFrame({'input':df_test.input.values,'target':df_test.target.values,'base_model':base_sums,'base_rougeL':base_rouge,'fine_tuned':ft_sums,'ft_rougeL':ft_rouge})"
      ]
    },
    {
      "cell_type": "code",
      "execution_count": null,
      "metadata": {
        "colab": {
          "background_save": true
        },
        "id": "BJTdt8Izr0Xh"
      },
      "outputs": [],
      "source": [
        "sum_df.to_csv(datapath/'summary_results.csv')"
      ]
    },
    {
      "cell_type": "code",
      "execution_count": null,
      "metadata": {
        "colab": {
          "background_save": true
        },
        "id": "Pbj5do6_kxSk",
        "outputId": "ee15a90a-8c7d-4458-ab63-fc23f2727a0a"
      },
      "outputs": [
        {
          "data": {
            "text/plain": [
              "0.16385148262878682"
            ]
          },
          "execution_count": null,
          "metadata": {},
          "output_type": "execute_result"
        }
      ],
      "source": [
        "sum_df.base_rougeL.mean()"
      ]
    },
    {
      "cell_type": "code",
      "execution_count": null,
      "metadata": {
        "colab": {
          "background_save": true
        },
        "id": "xusyjIdZlB19",
        "outputId": "c68b282b-ec1e-4a1c-9e59-ef9df9ee54e0"
      },
      "outputs": [
        {
          "data": {
            "text/plain": [
              "0.18648782658953966"
            ]
          },
          "execution_count": null,
          "metadata": {},
          "output_type": "execute_result"
        }
      ],
      "source": [
        "sum_df.ft_rougeL.mean()"
      ]
    },
    {
      "cell_type": "markdown",
      "metadata": {
        "id": "YdzkB0ibmChS"
      },
      "source": [
        "So preliminary results suggest that the baseline model performs better. Let's bootstrap this to see how confident we are that the means are different."
      ]
    },
    {
      "cell_type": "code",
      "execution_count": null,
      "metadata": {
        "colab": {
          "background_save": true
        },
        "id": "oTA_9UUrnId-"
      },
      "outputs": [],
      "source": [
        "import numpy as np"
      ]
    },
    {
      "cell_type": "code",
      "execution_count": null,
      "metadata": {
        "colab": {
          "background_save": true
        },
        "id": "A3lSn1_OnNER"
      },
      "outputs": [],
      "source": [
        "base_boot = []\n",
        "ft_boot = []\n",
        "\n",
        "for _ in range(10000):\n",
        "    base_boot.append(np.mean(np.random.choice(sum_df.base_rougeL.values, size=100)))\n",
        "    ft_boot.append(np.mean(np.random.choice(sum_df.ft_rougeL.values, size=100)))"
      ]
    },
    {
      "cell_type": "code",
      "execution_count": null,
      "metadata": {
        "colab": {
          "background_save": true
        },
        "id": "xmCOPHJXn63Q",
        "outputId": "8e5c4665-4414-48ef-ae95-691d19c0b8a6"
      },
      "outputs": [
        {
          "name": "stdout",
          "output_type": "stream",
          "text": [
            "95% CI of mean rougeL for base: [0.1299,0.2015]\n",
            "95% CI of mean rougeL for fine-tuned: [0.1516,0.2242]\n"
          ]
        }
      ],
      "source": [
        "print(f'95% CI of mean rougeL for base: [{np.quantile(base_boot, 0.025):.4f},{np.quantile(base_boot, 0.975):.4f}]')\n",
        "print(f'95% CI of mean rougeL for fine-tuned: [{np.quantile(ft_boot, 0.025):.4f},{np.quantile(ft_boot, 0.975):.4f}]')"
      ]
    },
    {
      "cell_type": "code",
      "execution_count": null,
      "metadata": {
        "colab": {
          "background_save": true
        },
        "id": "vMYHrN3at9cl"
      },
      "outputs": [],
      "source": [
        "from scipy.stats import ttest_ind"
      ]
    },
    {
      "cell_type": "code",
      "execution_count": null,
      "metadata": {
        "colab": {
          "background_save": true
        },
        "id": "_hwpd_pIuEJ7",
        "outputId": "6e5f56a5-a910-4766-8dbf-4da7d0fef4fc"
      },
      "outputs": [
        {
          "data": {
            "text/plain": [
              "Ttest_indResult(statistic=-1.024233920462916, pvalue=0.3066216603115707)"
            ]
          },
          "execution_count": null,
          "metadata": {},
          "output_type": "execute_result"
        }
      ],
      "source": [
        "ttest_ind(sum_df.base_rougeL, sum_df.ft_rougeL)"
      ]
    },
    {
      "cell_type": "markdown",
      "metadata": {
        "id": "92ZWPWaXtu5F"
      },
      "source": [
        "We cannot really say that there is a significant difference in the overall performance between the two models at summarizing the testing data.\n",
        "\n",
        "Let's now visually compare a the summaries of random targets."
      ]
    },
    {
      "cell_type": "code",
      "execution_count": null,
      "metadata": {
        "colab": {
          "background_save": true
        },
        "id": "3Jo6IgXEnwkr"
      },
      "outputs": [],
      "source": [
        "sample_df = sum_df.iloc[np.random.choice(sum_df.index, size=int(sum_df.shape[0]/10),replace=False)]"
      ]
    },
    {
      "cell_type": "code",
      "execution_count": null,
      "metadata": {
        "colab": {
          "background_save": true
        },
        "id": "XSM2XJafnwem",
        "outputId": "369cce22-ca15-4328-b53d-3b5f3ae18db1"
      },
      "outputs": [
        {
          "name": "stdout",
          "output_type": "stream",
          "text": [
            "input: Urgent cardiac catheterization with coronary angiogram.The patient was brought urgently to the cardiac cath lab from the emergency room with the patient being intubated with an abnormal EKG and a cardiac arrest. The right groin was prepped and draped in usual manner. Under 2% lidocaine anesthesia, the right femoral artery was entered. A 6-French sheath was placed. The patient was already on anticoagulation. Selective coronary angiograms were then performed using a left and a 3DRC catheter. The catheters were reviewed. The catheters were then removed and an Angio-Seal was placed. There was some hematoma at the cath site\n",
            "target: Normal coronary angiogram.\n",
            "base model summary:\n",
            "the patient was brought urgently to the cardiac cath lab from the emergency room. under 2% lidocaine anesthesia, the right femoral artery was entered.\n",
            "fine-tuned model:\n",
            "A 2-French sheath catheterization with coronary angiogram. The patient was intubated with an abnormal EKG and a cardiac arrest. \n",
            "\n",
            "\n",
            "input: Aortic valve replacement. Assessment of stenotic valve. Evaluation for thrombus on the valve.,Atrial valve replacement.Moderate stenosis of aortic valve replacement. Mild mitral regurgitation. Normal left ventricular function.The procedure was explained to the patient with risks and benefits. The patient agreed and signed the consent form. The patient received a total of 3 mg of Versed and 50 mcg of fentanyl for conscious sedation and pain control. The oropharynx anesthetized with benzocaine spray and lidocaine solution. Esophageal intubation was done with no difficulty with the second attempt. In a semi-Fowler position, the probe was passed to transthoracic views at about 40 to 42 cm. Multiple pictures obtained. Assessment of the peak velocity was done later. The probe was pulled to the mid esophageal level. Different pictures including short-axis views of the aortic valve was done. Extubation done with no problems and no blood on the probe. The patient tolerated the procedure well with no immediate postprocedure complications\n",
            "target: 1. Mildly dilated left atrium. 2. Mild-to-moderate regurgitation. 3. Well-seated mechanical aortic valve with peak velocity of 3.2 m/sec and calculated valve area of 1.2 cm2 consistent with moderate aortic stenosis. Reevaluation in two to three years with transthoracic echocardiogram will be recommended.\n",
            "base model summary:\n",
            "the procedure was explained to the patient with risks and benefits. the patient agreed and signed the consent form.\n",
            "fine-tuned model:\n",
            "1. Moderate stenosis of aortic valve replacement. 2. Mild mitral regurgitation. \n",
            "\n",
            "\n",
            "input: FINDINGS,Clip well localized within the specimen. INDICATION,This is a 65-year-old female who presents with abnormal mammogram who underwent stereotactic biopsy at an outside facility, which showed atypical ductal hyperplasia with central necrosis. On reviewing this pathology, it is mostly likely DCIS. The risks and benefits of the procedure were explained to the patient who appeared to understand and agreed to proceed. The patient desired MammoSite Radiation Therapy; therefore, the sentinel lymph node biopsy was incorporated into the procedure\n",
            "target:  Sentinel lymph node biopsy.  Ultrasound-guided lumpectomy with intraoperative ultrasound.\n",
            "base model summary:\n",
            "a 65-year-old female presents with abnormal mammogram who underwent stereotactic biopsy at an outside facility, which showed atypical ductal hyperplasia with central necrosis. the patient desired MammoSite Radiation Therapy; therefore, the sentinel lymph node biopsy was integrated into the procedure.\n",
            "fine-tuned model:\n",
            "Incomplete mammogram with atypical ductal hyperplasia with central necrosis. \n",
            "\n",
            "\n",
            "input: ,The patient was able to tolerate a 5-minute placement of the Passy-Muir valve. He reported no discomfort on the inhalation; however, he felt some resistance on exhalation. Instructions were given on care placement and cleaning of the Passy-Muir valve. The patient was instructed to buildup tolerance over the next several days of his Passy-Muir valve and to remove the valve at anytime or he is going to be sleeping or napping throughout the day. The patient's voicing did improve with the Passy-Muir valve due to decreased leakage from his trach secondary to finger occlusion. Mucus production also seemed to decrease when the Passy-Muir was placed. On the dry swallow during this evaluation, the patient's laryngeal area is reduced and tissues around his larynx and showed radiation fibrosis. The patient's neck range of motion appears to be adequate and within normal limits. A trial of neuromuscular electrical stimulation therapy:The patient tolerating the neuromuscular electrical stimulation, we did achieve poor passive response, but these muscles were contracting and the larynx was moving upon stimulation. The patient was able to actively swallow with stimulation approximately 30% of presentation\n",
            "target: The patient with a history of head and neck cancer status post radiation and chemotherapy with radiation fibrosis, which is impeding his swallowing abilities. The patient would benefit from outpatient skilled speech therapy for neuromuscular electrical stimulation for muscle reeducation to improve his swallowing function and safety and he would benefit from a placement of a Passy-Muir valve to have hands-free communication\n",
            "base model summary:\n",
            "the patient was able to tolerate a 5-minute placement of the Passy-Muir valve. instructions were given on care placement and cleaning of the valve.\n",
            "fine-tuned model:\n",
            "Passy-Muir valve. The patient was able to actively swallow with stimulation approximately 30% of presentation. \n",
            "\n",
            "\n",
            "input: There is diffuse subcutis space edema extending along the posteromedial aspect of the elbow adjacent to the medial epicondyle, extending to the olecranon process and along the superficial aspect of the epicondylo-olecranon ligament. There is no demonstrated solid, cystic or lipomatous mass lesion. There is enlargement with hyperintense signal of the ulnar nerve within the cubital tunnel. There is inflammation with mild laxity of the epicondylo-olecranon ligament. The combined findings are most consistent with a ulnar nerve neuritis possibly secondary to a subluxing ulnar nerve however the ulnar nerve at this time is within the cubital tunnel. There is no accessory muscle within the cubital tunnel. The common flexor tendon origin is normal. Normal ulnar collateral ligamentous complex. There is mild epimysial sheath edema of the pronator teres muscle consistent with a mild epimysial sheath sprain but no muscular tear. There is minimal intratendinous inflammation of the common extensor tendon origin consistent with a mild tendinitis. There is no demonstrated common extensor tendon tear. Normal radial collateral ligamentous complex. Normal radiocapitellum and ulnotrochlear articulations. Normal triceps and biceps tendon insertions. There is peritendinous inflammation of the brachialis tendon insertion but an intrinsically normal tendon\n",
            "target: Edema of the subcutis adipose space overlying the posteromedial aspect of the elbow with interstitial inflammation of the epicondylo-olecranon ligament. Enlarged edematous ulnar nerve most compatible with ulnar nerve neuritis. The above combined findings suggest a subluxing ulnar nerve. Mild epimysial sheath strain of the pronator teres muscle but no muscular tear. Mild lateral epicondylitis with focal tendinitis of the origin of the common extensor tendon. Peritendinous edema of the brachialis tendon insertion. No solid, cystic or lipomatous mass lesion.\n",
            "base model summary:\n",
            "there is enlargement with hyperintense signal of the ulnar nerve within the cubital tunnel. there is mild epimysial sheath edema of the pronator teres muscle consistent with a mild epimysial sheath sprain but no muscular tear.\n",
            "fine-tuned model:\n",
            "Normal extensor tendon origin consistent with a mild tendinitis. There is minimal intratendinous inflammation of the common extensor tendon origin consistent with a mild tendinitis. \n",
            "\n",
            "\n",
            "input: Appetite is good. She sleeps good at night. She has no headaches and she has mild joint pains from arthritis.VITAL SIGNS: Pulse 90 per minute and regular, blood pressure 140/90 mmHg, respirations 18, and temperature of 98.5 degree Fahrenheit. Moderate obesity is present.1. At this stage, the patient's cardiac medication should be continued if the patient is allowed p.o. intake.\n",
            "target: 1. Coronary artery disease and prior aortocoronary bypass surgery, currently clinically the patient without any angina. 2. Possible small old myocardial infarction. 3. Hypertension with hypertensive cardiovascular disease. 4. Non-insulin-dependent diabetes mellitus. 5. Moderate obesity. 6. Hyperlipidemia. 7. Chronic non-pitting leg edema. 8. Arthritis. 9\n",
            "base model summary:\n",
            "the patient's cardiac medication should be continued if allowed p.o. intake.\n",
            "fine-tuned model:\n",
            "1. Moderate obesity is present at this stage of the patient's cardiac medication should be continued if the patient is allowed p.o. \n",
            "\n",
            "\n",
            "input: Unable to obtain as the patient becomes quite sleepy when I am talking.,Temperature 99.2, blood pressure ranges from 88/41 to 108/60, pulse 70, respiratory rate, 20, O2 saturation 98%. Height is 5 feet 1 inch, weight 147 pounds. On general exam, she is a pleasant elderly woman who does arouse to voice, but then becomes quite sleepy and apparently that is an improvement from when she was admitted.S1, S2 regular rate, 3/6 holosystolic murmur heard with radiation from the left apex towards the left axilla. No rub, no gallop.Soft, nondistended.EKGs are reviewed including from 07/07/09 at 08:31 a.m. which shows atrial fibrillation with left anterior fascicular block, poor R-wave progression when compared to one done on 07/06/09 at 18:25, there is really no significant change. The atrial fibrillation appears present since at least on EKG done on 11/02/07 and this EKG is not significantly changed from the most recent one. Echocardiogram results as above. Chest x-ray shows mild pulmonary vascular congestion.1. Fall assessment as per dr Z and dr XY with possible PT consult if felt appropriate and if the patient is not felt to be at significant fall risk, would put her on Coumadin. Given her history of small strokes as documented in the chart and her chronic atrial fibrillation, she does have reasonable heart rate control on current labetalol. 2. The patient has elevated BNP and I suspect that is due to her severe pulmonary hypertension and renal failure and in the light of normal LV function, I would not make any further evaluation of that other than aggressive diuresis. 3. Regarding this minimal troponin elevation, I do not feel this is a diagnosis especially in the setting of pulmonary hypertension and her small-to-moderate sized stable pericardial effusion again that has been longstanding since 2007 from what I can tell and there is no evidence of tamponade. I would defer to her usual cardiologist dr X whether an outpatient stress evaluation is appropriate for risk stratification. I did find that the patient had a prior cardiac stress test in 08/07 where they felt that there was some subtle reversibility of the anterior wall, but it was felt that it may be artifact rather than true ischemia with normal LV function seen on that study as well. 4. Continue Norvasc for history of hypertension as well as labetalol. 5. The patient is felt to be a significant fall risk and will at least continue her aspirin 81 mg once a day for secondary CVA, thromboprophylaxis (albeit understanding that it is inferior to Coumadin). 6. Continue Dilantin for history of seizures.\n",
            "target: Ms. abc is a 74-year-old woman admitted to the hospital with a fall and she has a history of vascular dementia, so her history is somewhat unreliable it seems and she is somnolent at that time. She does have chronic atrial fibrillation again documented at least present since 2007 and I found an EKG report by dr X, which shows atrial fibrillation on 08/29/07 per her report. One of the questions we were asked was whether the patient would be a candidate for Coumadin. Clearly given her history of small mini-strokes, I think Coumadin would be appropriate given this chronic atrial fibrillation, but the main issue is the fall risk. If not felt to be significant fall risk then I would strongly recommend Coumadin as the patient herself states that she has only fallen twice in the past year. I would defer that decision to dr Z and dr XY who know the patient well and it may be that physical therapy consult is appropriate to help adjudicate\n",
            "base model summary:\n",
            "atrial fibrillation appears present since at least on EKG done on 11/02/07. there is really no significant change from the most recent one.\n",
            "fine-tuned model:\n",
            "1. Atrial fibrillation with right anterior fascicular block, poor R-wave progression when compared to one done on 11/02/07 at 18:25, there is really no significant change. The patient has elevated BNP and I do not feel this diagnosis especially in the setting of pulmonary hypertension and her small-to-moderate sized stable pericardial effusion again that has been longstanding since 2007. \n",
            "\n",
            "\n",
            "input: Positive for those things mentioned already in the past medical history and history of present illness.VITAL SIGNS: The vital signs are stable, the patient is febrile at 101-degrees\n",
            "target: Likely viral syndrome, viral meningitis, flu syndrome\n",
            "base model summary:\n",
            "the vital signs are stable, the patient is febrile at 101 degrees.\n",
            "fine-tuned model:\n",
            "Stable, the patient is febrile at 101-degrees. \n",
            "\n",
            "\n",
            "input: This is a 35-year-old Caucasian female gravida 1, para 0-0-1-0 with a history of spontaneous abortion. This patient had approximately greater than ten years of chronic pelvic pain with dysmenorrhea which has significantly affected her activities of daily living. Symptoms have not improved with prescription of oral contraceptives. The patient has had one prior surgery for a left ovarian cystectomy done by laparoscopy in 1996. The cyst was not diagnosed as an endometrioma. The patient does desire future fertility; however, would like a definitive diagnosis. Conservative medical therapy was offered i.e. Lupron or repeat oral contraceptives, but declined.Bimanual exam reveals a small retroverted uterus which is easily mobile. There were no adnexal masses. The cervix was normal on palpation. A fibrotic band was noted at the internal os during dilation. On laparoscopic exam, the uterus was found to be small with mild spongy texture. On palpation, the right ovary and adnexa were grossly normal with no evidence of endometriosis. The left ovary was grossly normal. The left fallopian tube had a mild hydrosalpinx present. The left uterosacral ligament had three to four 1 mm to 2 mm lesions that were vesicular in nature consistent with endometriosis. The vesicouterine reflection in the anterior aspect of the uterus were within normal limits as were the posterior cul-de-sac. The liver appeared grossly normal. There were no obvious pelvic adhesions. The left internal inguinal ring is somewhat patent, however, there is no bowel or viscera protruding through it\n",
            "target:  Dilation and curettage (D&C), laparoscopy, and harmonic scalpel ablation of lesion which is suspicious for endometriosis.  Chronic pelvic pain, hypermenorrhea, desire for future fertility, failed conservative medical therapy, possible adenomyosis, left hydrosalpinx, and suspicion for endometriosis.\n",
            "base model summary:\n",
            "the patient has had one prior surgery for a left ovarian cystectomy done by laparoscopy in 1996. she does desire future fertility; however, would like a definitive diagnosis. on palpation, the right ovary and adnexa were grossly normal.\n",
            "fine-tuned model:\n",
            "Normal left ovarian cystectomy. There were no evidence of endometriosis. The patient has had one prior surgery for a left ovarian cystectomy done by laparoscopy in 1996. \n",
            "\n",
            "\n",
            "input: ,There is no evidence for pulmonary arterial embolism. The lungs are clear of any abnormal airspace consolidation, pleural effusion, or pneumothorax. No abnormal mediastinal or hilar lymphadenopathy is seen. Limited images of the upper abdomen are unremarkable. No destructive osseous lesion is detected\n",
            "target: Negative for pulmonary arterial embolism.\n",
            "base model summary:\n",
            "the lungs are clear of any abnormal airspace consolidation, pleural effusion or pneumothorax. limited images of the upper abdomen are unremarkable.\n",
            "fine-tuned model:\n",
            "No evidence for pulmonary arterial embolism. The lungs are clear of any abnormal airspace consolidation, pleural effusion, or pneumothorax. Limited images of the upper abdomen are unremarkable. \n",
            "\n",
            "\n",
            "input: Colostomy failure. ,HISTORY OF PRESENT ILLNESS: This patient had a colostomy placed 9 days ago after resection of colonic carcinoma. Earlier today, he felt nauseated and stated that his colostomy stopped filling. He also had a sensation of \"heartburn.\" He denies vomiting but has been nauseated. He denies diarrhea. He denies hematochezia, hematemesis, or melena. He denies frank abdominal pain or fever. ,PAST MEDICAL HISTORY: As above. Also, hypertension..\"Fleet enema.\".Accupril and vitamins. ,REVIEW OF SYSTEMS:SYSTEMIC: The patient denies fever or chills.The patient denies blurred vision, headache, or change in hearing.VITAL SIGNS: Blood pressure 183/108, pulse 76, respirations 16, temperature 98.7..Cranial nerves are grossly intact. There is no scleral icterus..No jugular venous distention..Clear to auscultation bilaterally..Regular rate and rhythm. No murmurs..Soft, nontender, nondistended. Bowel sounds are decreased and high-pitched. There is a large midline laparotomy scar with staples still in place. There is no evidence of wound infection. Examination of the colostomy port reveals no obvious fecal impaction or site of obstruction. There is no evidence of infection. The mucosa appears normal. There is a small amount of nonbloody stool in the colostomy bag. There are no masses or bruits noted..There is no cyanosis, clubbing, or edema. Pulses are 2+ and equal bilaterally..The patient is alert and awake with no focal motor or sensory deficit noted. ,MEDICAL DECISION MAKING: Failure of colostomy to function may repre- sent an impaction; however, I did not appreciate this on physical examination. There may also be an adhesion or proximal impaction which I cannot reach, which may cause a bowel obstruction, failure of the shunt, nausea, and ultimately vomiting. ,An abdominal series was obtained, which confirmed this possibility by demonstrating air-fluid levels and dilated bowel. ,The CBC showed WBC of 9.4 with normal differential. Hematocrit is 42.6. I interpret this as normal. Amylase is currently pending. ,I have discussed this case with dr S, the patient's surgeon, who agrees that there is a possibility of bowel obstruction and the patient should be admitted to observation. Because of the patient's insurance status, the patient will actually be admitted to dr D on observation. I have discussed the case with dr P, who is the doctor on call for dr D. Both dr S and dr P have been informed of the patient's condition and are aware of his situation. ,FINAL IMPRESSION: Bowel obstruction, status post colostomy..Admission to observation. The patient's condition is good. He is hemodynamically stable.\n",
            "target: VITAL SIGNS: Blood pressure 183/108, pulse 76, respirations 16, temperature 98.7..Cranial nerves are grossly intact. There is no scleral icterus..No jugular venous distention..Clear to auscultation bilaterally..Regular rate and rhythm. No murmurs..Soft, nontender, nondistended. Bowel sounds are decreased and high-pitched. There is a large midline laparotomy scar with staples still in place. There is no evidence of wound infection. Examination of the colostomy port reveals no obvious fecal impaction or site of obstruction. There is no evidence of infection. The mucosa appears normal. There is a small amount of nonbloody stool in the colostomy bag. There are no masses or bruits noted..There is no cyanosis, clubbing, or edema. Pulses are 2+ and equal bilaterally..The patient is alert and awake with no focal motor or sensory deficit noted. ,MEDICAL DECISION MAKING: Failure of colostomy to function may repre- sent an impaction; however, I did not appreciate this on physical examination. There may also be an adhesion or proximal impaction which I cannot reach, which may cause a bowel obstruction, failure of the shunt, nausea, and ultimately vomiting. ,An abdominal series was obtained, which confirmed this possibility by demonstrating air-fluid levels and dilated bowel. ,The CBC showed WBC of 9.4 with normal differential. Hematocrit is 42.6. I interpret this as normal. Amylase is currently pending. ,I have discussed this case with dr S, the patient's surgeon, who agrees that there is a possibility of bowel obstruction and the patient should be admitted to observation. Because of the patient's insurance status, the patient will actually be admitted to dr D on observation. I have discussed the case with dr P, who is the doctor on call for dr D. Both dr S and dr P have been informed of the patient's condition and are aware of his situation. ,FINAL IMPRESSION: Bowel obstruction, status post colostomy..Admission to observation. The patient's condition is good. He is hemodynamically stable.\n",
            "base model summary:\n",
            "the patient had a colostomy placed 9 days ago after resection of colonic carcinoma. he denies vomiting but has been nauseated and denies diarrhea.\n",
            "fine-tuned model:\n",
            ",The patient is alert and awake with no focal motor or sensory deficit noted. There may also be an adhesion or proximal impaction which I cannot reach \n",
            "\n",
            "\n",
            "input: TIA, aortic stenosis, postoperative procedure. Moderate carotid artery stenosis.1. Type 2 aortic arch. 2. Left subclavian artery was patent. 3 Left vertebral artery was patent. 4. Left internal carotid artery had a 40% to 50% lesion with ulceration, not treated and there was no cerebral cross over. 5. Right common carotid artery had a 60% to 70% lesion which was heavily calcified and was not treated with the summed left-to-right cross over flow. 6. Closure was with a 6-French Angio-Seal of the artery, and the venous sheath was sutured in\n",
            "target:  Carotid artery angiograms.\n",
            "base model summary:\n",
            "moderate carotid artery stenosis.1. Type 2 aortic arch. 3 Left vertebral artery was patent. right common carotid artery had a 60% to 70% lesion with ulceration.\n",
            "fine-tuned model:\n",
            "Moderate carotid artery stenosis. \n",
            "\n",
            "\n",
            "input: On my comprehensive cardiovascular examination, he is 5 feet 8 inches and weighs 231 pounds. His blood pressure is 120/70 in each arm seated. His pulse is 80 beats per minute and regular. He is breathing 1two times per minute and that is unlabored. Eyelids are normal. Pupils are round and reactive to light. Conjunctivae are clear and sclerae are anicteric. There is no oral thrush or central cyanosis. Neck is supple and symmetrical without adenopathy or thyromegaly. Jugular venous pressure is normal. Carotids are brisk without bruits. Lungs are clear to auscultation and percussion. The precordium is quiet. The rhythm is regular. The first and second heart sounds are normal. He does have a fourth heart sound and a soft systolic murmur. The precordial impulse is enlarged. Abdomen is soft without hepatosplenomegaly or masses. He has no clubbing, cyanosis or peripheral edema. Distal pulses are normal throughout both arms and both legs. On neurologic examination, his mentation is normal. His mood and affect are normal. He is oriented to person, place, and time\n",
            "target:  A 63-year-old man with a dilated cardiomyopathy presents with a chief complaint of heart failure.  He has noted shortness of breath with exertion and occasional shortness of breath at rest. \n",
            "base model summary:\n",
            "he is 5 feet 8 inches and weighs 231 pounds. his blood pressure is 120/70 in each arm seated.\n",
            "fine-tuned model:\n",
            "1. Cystolic thrombosis or central edema. 2. Distal pulses are normal throughout the arms and both legs. He is oriented to person, place, and time \n",
            "\n",
            "\n"
          ]
        }
      ],
      "source": [
        "for item in sample_df.index:\n",
        "    print(f'input: {sample_df.loc[item].input}')\n",
        "    print(f'target: {sample_df.loc[item].target}')\n",
        "    print(f'base model summary:\\n{sample_df.loc[item].base_model}\\nfine-tuned model:\\n{sample_df.loc[item].fine_tuned} \\n\\n')"
      ]
    },
    {
      "cell_type": "markdown",
      "metadata": {
        "id": "TpeqK-ZY2hV1"
      },
      "source": [
        "## Conclusion:\n",
        "\n",
        "Both models seem to struggle in some cases to truly grasp the important information. However in the cases where the context is captured, the fine-tuned model seems to do a better job at distilling the important details. It either reduces the information to the necessary components or it finds additional information that was missing in the base model summary."
      ]
    }
  ],
  "metadata": {
    "colab": {
      "collapsed_sections": [],
      "machine_shape": "hm",
      "name": "cst3_Model_Performances.ipynb",
      "provenance": []
    },
    "kernelspec": {
      "display_name": "Python 3",
      "name": "python3"
    },
    "language_info": {
      "name": "python"
    },
    "widgets": {
      "application/vnd.jupyter.widget-state+json": {
        "01ddbaa37b1e49e8bcd17061b24cab07": {
          "model_module": "@jupyter-widgets/base",
          "model_module_version": "1.2.0",
          "model_name": "LayoutModel",
          "state": {
            "_model_module": "@jupyter-widgets/base",
            "_model_module_version": "1.2.0",
            "_model_name": "LayoutModel",
            "_view_count": null,
            "_view_module": "@jupyter-widgets/base",
            "_view_module_version": "1.2.0",
            "_view_name": "LayoutView",
            "align_content": null,
            "align_items": null,
            "align_self": null,
            "border": null,
            "bottom": null,
            "display": null,
            "flex": null,
            "flex_flow": null,
            "grid_area": null,
            "grid_auto_columns": null,
            "grid_auto_flow": null,
            "grid_auto_rows": null,
            "grid_column": null,
            "grid_gap": null,
            "grid_row": null,
            "grid_template_areas": null,
            "grid_template_columns": null,
            "grid_template_rows": null,
            "height": null,
            "justify_content": null,
            "justify_items": null,
            "left": null,
            "margin": null,
            "max_height": null,
            "max_width": null,
            "min_height": null,
            "min_width": null,
            "object_fit": null,
            "object_position": null,
            "order": null,
            "overflow": null,
            "overflow_x": null,
            "overflow_y": null,
            "padding": null,
            "right": null,
            "top": null,
            "visibility": null,
            "width": null
          }
        },
        "041d89ec48794043b068091e435b3515": {
          "model_module": "@jupyter-widgets/base",
          "model_module_version": "1.2.0",
          "model_name": "LayoutModel",
          "state": {
            "_model_module": "@jupyter-widgets/base",
            "_model_module_version": "1.2.0",
            "_model_name": "LayoutModel",
            "_view_count": null,
            "_view_module": "@jupyter-widgets/base",
            "_view_module_version": "1.2.0",
            "_view_name": "LayoutView",
            "align_content": null,
            "align_items": null,
            "align_self": null,
            "border": null,
            "bottom": null,
            "display": null,
            "flex": null,
            "flex_flow": null,
            "grid_area": null,
            "grid_auto_columns": null,
            "grid_auto_flow": null,
            "grid_auto_rows": null,
            "grid_column": null,
            "grid_gap": null,
            "grid_row": null,
            "grid_template_areas": null,
            "grid_template_columns": null,
            "grid_template_rows": null,
            "height": null,
            "justify_content": null,
            "justify_items": null,
            "left": null,
            "margin": null,
            "max_height": null,
            "max_width": null,
            "min_height": null,
            "min_width": null,
            "object_fit": null,
            "object_position": null,
            "order": null,
            "overflow": null,
            "overflow_x": null,
            "overflow_y": null,
            "padding": null,
            "right": null,
            "top": null,
            "visibility": null,
            "width": null
          }
        },
        "0c090a292c514115ba439a52b061d449": {
          "model_module": "@jupyter-widgets/controls",
          "model_module_version": "1.5.0",
          "model_name": "DescriptionStyleModel",
          "state": {
            "_model_module": "@jupyter-widgets/controls",
            "_model_module_version": "1.5.0",
            "_model_name": "DescriptionStyleModel",
            "_view_count": null,
            "_view_module": "@jupyter-widgets/base",
            "_view_module_version": "1.2.0",
            "_view_name": "StyleView",
            "description_width": ""
          }
        },
        "23823b2e7a774cae9bb20dea618872a1": {
          "model_module": "@jupyter-widgets/controls",
          "model_module_version": "1.5.0",
          "model_name": "DescriptionStyleModel",
          "state": {
            "_model_module": "@jupyter-widgets/controls",
            "_model_module_version": "1.5.0",
            "_model_name": "DescriptionStyleModel",
            "_view_count": null,
            "_view_module": "@jupyter-widgets/base",
            "_view_module_version": "1.2.0",
            "_view_name": "StyleView",
            "description_width": ""
          }
        },
        "27df73ebcd1a459ab294c78a14be3bcb": {
          "model_module": "@jupyter-widgets/controls",
          "model_module_version": "1.5.0",
          "model_name": "DescriptionStyleModel",
          "state": {
            "_model_module": "@jupyter-widgets/controls",
            "_model_module_version": "1.5.0",
            "_model_name": "DescriptionStyleModel",
            "_view_count": null,
            "_view_module": "@jupyter-widgets/base",
            "_view_module_version": "1.2.0",
            "_view_name": "StyleView",
            "description_width": ""
          }
        },
        "29e6a981eacd4b71b28296c947228c2a": {
          "model_module": "@jupyter-widgets/controls",
          "model_module_version": "1.5.0",
          "model_name": "HTMLModel",
          "state": {
            "_dom_classes": [],
            "_model_module": "@jupyter-widgets/controls",
            "_model_module_version": "1.5.0",
            "_model_name": "HTMLModel",
            "_view_count": null,
            "_view_module": "@jupyter-widgets/controls",
            "_view_module_version": "1.5.0",
            "_view_name": "HTMLView",
            "description": "",
            "description_tooltip": null,
            "layout": "IPY_MODEL_9bd46b015450428d96b79b87a6be0e9e",
            "placeholder": "​",
            "style": "IPY_MODEL_98361a37de5f448db2435846b1e643eb",
            "value": "Downloading: 100%"
          }
        },
        "31ca3c56976a484b8ada0cf99fe5f148": {
          "model_module": "@jupyter-widgets/controls",
          "model_module_version": "1.5.0",
          "model_name": "ProgressStyleModel",
          "state": {
            "_model_module": "@jupyter-widgets/controls",
            "_model_module_version": "1.5.0",
            "_model_name": "ProgressStyleModel",
            "_view_count": null,
            "_view_module": "@jupyter-widgets/base",
            "_view_module_version": "1.2.0",
            "_view_name": "StyleView",
            "bar_color": null,
            "description_width": ""
          }
        },
        "40af33b33b1a4bea9487293e57260f21": {
          "model_module": "@jupyter-widgets/controls",
          "model_module_version": "1.5.0",
          "model_name": "FloatProgressModel",
          "state": {
            "_dom_classes": [],
            "_model_module": "@jupyter-widgets/controls",
            "_model_module_version": "1.5.0",
            "_model_name": "FloatProgressModel",
            "_view_count": null,
            "_view_module": "@jupyter-widgets/controls",
            "_view_module_version": "1.5.0",
            "_view_name": "ProgressView",
            "bar_style": "success",
            "description": "",
            "description_tooltip": null,
            "layout": "IPY_MODEL_630fe4a8225146b4abb3334ea350330f",
            "max": 1389353,
            "min": 0,
            "orientation": "horizontal",
            "style": "IPY_MODEL_7ae58bf6b5d248ee9b54b7708e12a084",
            "value": 1389353
          }
        },
        "43ceb99e964948f0a35e0e8afb4e9da0": {
          "model_module": "@jupyter-widgets/controls",
          "model_module_version": "1.5.0",
          "model_name": "DescriptionStyleModel",
          "state": {
            "_model_module": "@jupyter-widgets/controls",
            "_model_module_version": "1.5.0",
            "_model_name": "DescriptionStyleModel",
            "_view_count": null,
            "_view_module": "@jupyter-widgets/base",
            "_view_module_version": "1.2.0",
            "_view_name": "StyleView",
            "description_width": ""
          }
        },
        "563eb1b8120e4a53bf11238445a13886": {
          "model_module": "@jupyter-widgets/base",
          "model_module_version": "1.2.0",
          "model_name": "LayoutModel",
          "state": {
            "_model_module": "@jupyter-widgets/base",
            "_model_module_version": "1.2.0",
            "_model_name": "LayoutModel",
            "_view_count": null,
            "_view_module": "@jupyter-widgets/base",
            "_view_module_version": "1.2.0",
            "_view_name": "LayoutView",
            "align_content": null,
            "align_items": null,
            "align_self": null,
            "border": null,
            "bottom": null,
            "display": null,
            "flex": null,
            "flex_flow": null,
            "grid_area": null,
            "grid_auto_columns": null,
            "grid_auto_flow": null,
            "grid_auto_rows": null,
            "grid_column": null,
            "grid_gap": null,
            "grid_row": null,
            "grid_template_areas": null,
            "grid_template_columns": null,
            "grid_template_rows": null,
            "height": null,
            "justify_content": null,
            "justify_items": null,
            "left": null,
            "margin": null,
            "max_height": null,
            "max_width": null,
            "min_height": null,
            "min_width": null,
            "object_fit": null,
            "object_position": null,
            "order": null,
            "overflow": null,
            "overflow_x": null,
            "overflow_y": null,
            "padding": null,
            "right": null,
            "top": null,
            "visibility": null,
            "width": null
          }
        },
        "57b0f4ac9c1f41689f2662782ca928a1": {
          "model_module": "@jupyter-widgets/controls",
          "model_module_version": "1.5.0",
          "model_name": "FloatProgressModel",
          "state": {
            "_dom_classes": [],
            "_model_module": "@jupyter-widgets/controls",
            "_model_module_version": "1.5.0",
            "_model_name": "FloatProgressModel",
            "_view_count": null,
            "_view_module": "@jupyter-widgets/controls",
            "_view_module_version": "1.5.0",
            "_view_name": "ProgressView",
            "bar_style": "success",
            "description": "",
            "description_tooltip": null,
            "layout": "IPY_MODEL_e7bf9eaa7dbb43218c074057d4a911dc",
            "max": 242065649,
            "min": 0,
            "orientation": "horizontal",
            "style": "IPY_MODEL_a42316e7126342bf82fff60240971f8f",
            "value": 242065649
          }
        },
        "58605e884bd2458197bfa459e4626244": {
          "model_module": "@jupyter-widgets/base",
          "model_module_version": "1.2.0",
          "model_name": "LayoutModel",
          "state": {
            "_model_module": "@jupyter-widgets/base",
            "_model_module_version": "1.2.0",
            "_model_name": "LayoutModel",
            "_view_count": null,
            "_view_module": "@jupyter-widgets/base",
            "_view_module_version": "1.2.0",
            "_view_name": "LayoutView",
            "align_content": null,
            "align_items": null,
            "align_self": null,
            "border": null,
            "bottom": null,
            "display": null,
            "flex": null,
            "flex_flow": null,
            "grid_area": null,
            "grid_auto_columns": null,
            "grid_auto_flow": null,
            "grid_auto_rows": null,
            "grid_column": null,
            "grid_gap": null,
            "grid_row": null,
            "grid_template_areas": null,
            "grid_template_columns": null,
            "grid_template_rows": null,
            "height": null,
            "justify_content": null,
            "justify_items": null,
            "left": null,
            "margin": null,
            "max_height": null,
            "max_width": null,
            "min_height": null,
            "min_width": null,
            "object_fit": null,
            "object_position": null,
            "order": null,
            "overflow": null,
            "overflow_x": null,
            "overflow_y": null,
            "padding": null,
            "right": null,
            "top": null,
            "visibility": null,
            "width": null
          }
        },
        "605931e8d45f4f7582787dc6de44d7d5": {
          "model_module": "@jupyter-widgets/controls",
          "model_module_version": "1.5.0",
          "model_name": "DescriptionStyleModel",
          "state": {
            "_model_module": "@jupyter-widgets/controls",
            "_model_module_version": "1.5.0",
            "_model_name": "DescriptionStyleModel",
            "_view_count": null,
            "_view_module": "@jupyter-widgets/base",
            "_view_module_version": "1.2.0",
            "_view_name": "StyleView",
            "description_width": ""
          }
        },
        "60a4a4a6ad004e80a09c177cc88ad0c5": {
          "model_module": "@jupyter-widgets/controls",
          "model_module_version": "1.5.0",
          "model_name": "ProgressStyleModel",
          "state": {
            "_model_module": "@jupyter-widgets/controls",
            "_model_module_version": "1.5.0",
            "_model_name": "ProgressStyleModel",
            "_view_count": null,
            "_view_module": "@jupyter-widgets/base",
            "_view_module_version": "1.2.0",
            "_view_name": "StyleView",
            "bar_color": null,
            "description_width": ""
          }
        },
        "630fe4a8225146b4abb3334ea350330f": {
          "model_module": "@jupyter-widgets/base",
          "model_module_version": "1.2.0",
          "model_name": "LayoutModel",
          "state": {
            "_model_module": "@jupyter-widgets/base",
            "_model_module_version": "1.2.0",
            "_model_name": "LayoutModel",
            "_view_count": null,
            "_view_module": "@jupyter-widgets/base",
            "_view_module_version": "1.2.0",
            "_view_name": "LayoutView",
            "align_content": null,
            "align_items": null,
            "align_self": null,
            "border": null,
            "bottom": null,
            "display": null,
            "flex": null,
            "flex_flow": null,
            "grid_area": null,
            "grid_auto_columns": null,
            "grid_auto_flow": null,
            "grid_auto_rows": null,
            "grid_column": null,
            "grid_gap": null,
            "grid_row": null,
            "grid_template_areas": null,
            "grid_template_columns": null,
            "grid_template_rows": null,
            "height": null,
            "justify_content": null,
            "justify_items": null,
            "left": null,
            "margin": null,
            "max_height": null,
            "max_width": null,
            "min_height": null,
            "min_width": null,
            "object_fit": null,
            "object_position": null,
            "order": null,
            "overflow": null,
            "overflow_x": null,
            "overflow_y": null,
            "padding": null,
            "right": null,
            "top": null,
            "visibility": null,
            "width": null
          }
        },
        "675b2199d4df4890a1947dcc040833f9": {
          "model_module": "@jupyter-widgets/base",
          "model_module_version": "1.2.0",
          "model_name": "LayoutModel",
          "state": {
            "_model_module": "@jupyter-widgets/base",
            "_model_module_version": "1.2.0",
            "_model_name": "LayoutModel",
            "_view_count": null,
            "_view_module": "@jupyter-widgets/base",
            "_view_module_version": "1.2.0",
            "_view_name": "LayoutView",
            "align_content": null,
            "align_items": null,
            "align_self": null,
            "border": null,
            "bottom": null,
            "display": null,
            "flex": null,
            "flex_flow": null,
            "grid_area": null,
            "grid_auto_columns": null,
            "grid_auto_flow": null,
            "grid_auto_rows": null,
            "grid_column": null,
            "grid_gap": null,
            "grid_row": null,
            "grid_template_areas": null,
            "grid_template_columns": null,
            "grid_template_rows": null,
            "height": null,
            "justify_content": null,
            "justify_items": null,
            "left": null,
            "margin": null,
            "max_height": null,
            "max_width": null,
            "min_height": null,
            "min_width": null,
            "object_fit": null,
            "object_position": null,
            "order": null,
            "overflow": null,
            "overflow_x": null,
            "overflow_y": null,
            "padding": null,
            "right": null,
            "top": null,
            "visibility": null,
            "width": null
          }
        },
        "6ac8d3a9eb94489da030cd87257ba4ba": {
          "model_module": "@jupyter-widgets/controls",
          "model_module_version": "1.5.0",
          "model_name": "HBoxModel",
          "state": {
            "_dom_classes": [],
            "_model_module": "@jupyter-widgets/controls",
            "_model_module_version": "1.5.0",
            "_model_name": "HBoxModel",
            "_view_count": null,
            "_view_module": "@jupyter-widgets/controls",
            "_view_module_version": "1.5.0",
            "_view_name": "HBoxView",
            "box_style": "",
            "children": [
              "IPY_MODEL_abd05847c65c49289c7b565afc2c2980",
              "IPY_MODEL_57b0f4ac9c1f41689f2662782ca928a1",
              "IPY_MODEL_a0ab3017df7a47b5874f2228c4b64a50"
            ],
            "layout": "IPY_MODEL_041d89ec48794043b068091e435b3515"
          }
        },
        "71ae2e3866a14fb196b834485130931c": {
          "model_module": "@jupyter-widgets/controls",
          "model_module_version": "1.5.0",
          "model_name": "HBoxModel",
          "state": {
            "_dom_classes": [],
            "_model_module": "@jupyter-widgets/controls",
            "_model_module_version": "1.5.0",
            "_model_name": "HBoxModel",
            "_view_count": null,
            "_view_module": "@jupyter-widgets/controls",
            "_view_module_version": "1.5.0",
            "_view_name": "HBoxView",
            "box_style": "",
            "children": [
              "IPY_MODEL_9f68ac08a42b48499f6e3d9f5356c178",
              "IPY_MODEL_83204aa068c7453c96b25df422b88419",
              "IPY_MODEL_c6521ee0c55b4f23a9c70fc907a1d939"
            ],
            "layout": "IPY_MODEL_aa9af1272e6446daa410aba2f1ce09b3"
          }
        },
        "7ae58bf6b5d248ee9b54b7708e12a084": {
          "model_module": "@jupyter-widgets/controls",
          "model_module_version": "1.5.0",
          "model_name": "ProgressStyleModel",
          "state": {
            "_model_module": "@jupyter-widgets/controls",
            "_model_module_version": "1.5.0",
            "_model_name": "ProgressStyleModel",
            "_view_count": null,
            "_view_module": "@jupyter-widgets/base",
            "_view_module_version": "1.2.0",
            "_view_name": "StyleView",
            "bar_color": null,
            "description_width": ""
          }
        },
        "83204aa068c7453c96b25df422b88419": {
          "model_module": "@jupyter-widgets/controls",
          "model_module_version": "1.5.0",
          "model_name": "FloatProgressModel",
          "state": {
            "_dom_classes": [],
            "_model_module": "@jupyter-widgets/controls",
            "_model_module_version": "1.5.0",
            "_model_name": "FloatProgressModel",
            "_view_count": null,
            "_view_module": "@jupyter-widgets/controls",
            "_view_module_version": "1.5.0",
            "_view_name": "ProgressView",
            "bar_style": "success",
            "description": "",
            "description_tooltip": null,
            "layout": "IPY_MODEL_f5a87ee2d05c48a9876d78eb9ef6c323",
            "max": 1197,
            "min": 0,
            "orientation": "horizontal",
            "style": "IPY_MODEL_31ca3c56976a484b8ada0cf99fe5f148",
            "value": 1197
          }
        },
        "98361a37de5f448db2435846b1e643eb": {
          "model_module": "@jupyter-widgets/controls",
          "model_module_version": "1.5.0",
          "model_name": "DescriptionStyleModel",
          "state": {
            "_model_module": "@jupyter-widgets/controls",
            "_model_module_version": "1.5.0",
            "_model_name": "DescriptionStyleModel",
            "_view_count": null,
            "_view_module": "@jupyter-widgets/base",
            "_view_module_version": "1.2.0",
            "_view_name": "StyleView",
            "description_width": ""
          }
        },
        "9bd46b015450428d96b79b87a6be0e9e": {
          "model_module": "@jupyter-widgets/base",
          "model_module_version": "1.2.0",
          "model_name": "LayoutModel",
          "state": {
            "_model_module": "@jupyter-widgets/base",
            "_model_module_version": "1.2.0",
            "_model_name": "LayoutModel",
            "_view_count": null,
            "_view_module": "@jupyter-widgets/base",
            "_view_module_version": "1.2.0",
            "_view_name": "LayoutView",
            "align_content": null,
            "align_items": null,
            "align_self": null,
            "border": null,
            "bottom": null,
            "display": null,
            "flex": null,
            "flex_flow": null,
            "grid_area": null,
            "grid_auto_columns": null,
            "grid_auto_flow": null,
            "grid_auto_rows": null,
            "grid_column": null,
            "grid_gap": null,
            "grid_row": null,
            "grid_template_areas": null,
            "grid_template_columns": null,
            "grid_template_rows": null,
            "height": null,
            "justify_content": null,
            "justify_items": null,
            "left": null,
            "margin": null,
            "max_height": null,
            "max_width": null,
            "min_height": null,
            "min_width": null,
            "object_fit": null,
            "object_position": null,
            "order": null,
            "overflow": null,
            "overflow_x": null,
            "overflow_y": null,
            "padding": null,
            "right": null,
            "top": null,
            "visibility": null,
            "width": null
          }
        },
        "9f68ac08a42b48499f6e3d9f5356c178": {
          "model_module": "@jupyter-widgets/controls",
          "model_module_version": "1.5.0",
          "model_name": "HTMLModel",
          "state": {
            "_dom_classes": [],
            "_model_module": "@jupyter-widgets/controls",
            "_model_module_version": "1.5.0",
            "_model_name": "HTMLModel",
            "_view_count": null,
            "_view_module": "@jupyter-widgets/controls",
            "_view_module_version": "1.5.0",
            "_view_name": "HTMLView",
            "description": "",
            "description_tooltip": null,
            "layout": "IPY_MODEL_c4abab1b0b764ea086c9a32dc8a87018",
            "placeholder": "​",
            "style": "IPY_MODEL_605931e8d45f4f7582787dc6de44d7d5",
            "value": "Downloading: 100%"
          }
        },
        "a0ab3017df7a47b5874f2228c4b64a50": {
          "model_module": "@jupyter-widgets/controls",
          "model_module_version": "1.5.0",
          "model_name": "HTMLModel",
          "state": {
            "_dom_classes": [],
            "_model_module": "@jupyter-widgets/controls",
            "_model_module_version": "1.5.0",
            "_model_name": "HTMLModel",
            "_view_count": null,
            "_view_module": "@jupyter-widgets/controls",
            "_view_module_version": "1.5.0",
            "_view_name": "HTMLView",
            "description": "",
            "description_tooltip": null,
            "layout": "IPY_MODEL_675b2199d4df4890a1947dcc040833f9",
            "placeholder": "​",
            "style": "IPY_MODEL_27df73ebcd1a459ab294c78a14be3bcb",
            "value": " 231M/231M [00:11&lt;00:00, 26.0MB/s]"
          }
        },
        "a42316e7126342bf82fff60240971f8f": {
          "model_module": "@jupyter-widgets/controls",
          "model_module_version": "1.5.0",
          "model_name": "ProgressStyleModel",
          "state": {
            "_model_module": "@jupyter-widgets/controls",
            "_model_module_version": "1.5.0",
            "_model_name": "ProgressStyleModel",
            "_view_count": null,
            "_view_module": "@jupyter-widgets/base",
            "_view_module_version": "1.2.0",
            "_view_name": "StyleView",
            "bar_color": null,
            "description_width": ""
          }
        },
        "a5780ee2c9c540f19cbef8cef07510ac": {
          "model_module": "@jupyter-widgets/controls",
          "model_module_version": "1.5.0",
          "model_name": "FloatProgressModel",
          "state": {
            "_dom_classes": [],
            "_model_module": "@jupyter-widgets/controls",
            "_model_module_version": "1.5.0",
            "_model_name": "FloatProgressModel",
            "_view_count": null,
            "_view_module": "@jupyter-widgets/controls",
            "_view_module_version": "1.5.0",
            "_view_name": "ProgressView",
            "bar_style": "success",
            "description": "",
            "description_tooltip": null,
            "layout": "IPY_MODEL_01ddbaa37b1e49e8bcd17061b24cab07",
            "max": 791656,
            "min": 0,
            "orientation": "horizontal",
            "style": "IPY_MODEL_60a4a4a6ad004e80a09c177cc88ad0c5",
            "value": 791656
          }
        },
        "aa9af1272e6446daa410aba2f1ce09b3": {
          "model_module": "@jupyter-widgets/base",
          "model_module_version": "1.2.0",
          "model_name": "LayoutModel",
          "state": {
            "_model_module": "@jupyter-widgets/base",
            "_model_module_version": "1.2.0",
            "_model_name": "LayoutModel",
            "_view_count": null,
            "_view_module": "@jupyter-widgets/base",
            "_view_module_version": "1.2.0",
            "_view_name": "LayoutView",
            "align_content": null,
            "align_items": null,
            "align_self": null,
            "border": null,
            "bottom": null,
            "display": null,
            "flex": null,
            "flex_flow": null,
            "grid_area": null,
            "grid_auto_columns": null,
            "grid_auto_flow": null,
            "grid_auto_rows": null,
            "grid_column": null,
            "grid_gap": null,
            "grid_row": null,
            "grid_template_areas": null,
            "grid_template_columns": null,
            "grid_template_rows": null,
            "height": null,
            "justify_content": null,
            "justify_items": null,
            "left": null,
            "margin": null,
            "max_height": null,
            "max_width": null,
            "min_height": null,
            "min_width": null,
            "object_fit": null,
            "object_position": null,
            "order": null,
            "overflow": null,
            "overflow_x": null,
            "overflow_y": null,
            "padding": null,
            "right": null,
            "top": null,
            "visibility": null,
            "width": null
          }
        },
        "abd05847c65c49289c7b565afc2c2980": {
          "model_module": "@jupyter-widgets/controls",
          "model_module_version": "1.5.0",
          "model_name": "HTMLModel",
          "state": {
            "_dom_classes": [],
            "_model_module": "@jupyter-widgets/controls",
            "_model_module_version": "1.5.0",
            "_model_name": "HTMLModel",
            "_view_count": null,
            "_view_module": "@jupyter-widgets/controls",
            "_view_module_version": "1.5.0",
            "_view_name": "HTMLView",
            "description": "",
            "description_tooltip": null,
            "layout": "IPY_MODEL_c975373b08cc4f87a6773dcb8d705e0d",
            "placeholder": "​",
            "style": "IPY_MODEL_23823b2e7a774cae9bb20dea618872a1",
            "value": "Downloading: 100%"
          }
        },
        "b805cb5861f742a885ec8c11bdf637b9": {
          "model_module": "@jupyter-widgets/controls",
          "model_module_version": "1.5.0",
          "model_name": "HBoxModel",
          "state": {
            "_dom_classes": [],
            "_model_module": "@jupyter-widgets/controls",
            "_model_module_version": "1.5.0",
            "_model_name": "HBoxModel",
            "_view_count": null,
            "_view_module": "@jupyter-widgets/controls",
            "_view_module_version": "1.5.0",
            "_view_name": "HBoxView",
            "box_style": "",
            "children": [
              "IPY_MODEL_29e6a981eacd4b71b28296c947228c2a",
              "IPY_MODEL_40af33b33b1a4bea9487293e57260f21",
              "IPY_MODEL_d674152f878041e7949279d4acf9fd2a"
            ],
            "layout": "IPY_MODEL_563eb1b8120e4a53bf11238445a13886"
          }
        },
        "bcc5f28c00ea4303888a12335af63557": {
          "model_module": "@jupyter-widgets/controls",
          "model_module_version": "1.5.0",
          "model_name": "HTMLModel",
          "state": {
            "_dom_classes": [],
            "_model_module": "@jupyter-widgets/controls",
            "_model_module_version": "1.5.0",
            "_model_name": "HTMLModel",
            "_view_count": null,
            "_view_module": "@jupyter-widgets/controls",
            "_view_module_version": "1.5.0",
            "_view_name": "HTMLView",
            "description": "",
            "description_tooltip": null,
            "layout": "IPY_MODEL_58605e884bd2458197bfa459e4626244",
            "placeholder": "​",
            "style": "IPY_MODEL_0c090a292c514115ba439a52b061d449",
            "value": "Downloading: 100%"
          }
        },
        "c4abab1b0b764ea086c9a32dc8a87018": {
          "model_module": "@jupyter-widgets/base",
          "model_module_version": "1.2.0",
          "model_name": "LayoutModel",
          "state": {
            "_model_module": "@jupyter-widgets/base",
            "_model_module_version": "1.2.0",
            "_model_name": "LayoutModel",
            "_view_count": null,
            "_view_module": "@jupyter-widgets/base",
            "_view_module_version": "1.2.0",
            "_view_name": "LayoutView",
            "align_content": null,
            "align_items": null,
            "align_self": null,
            "border": null,
            "bottom": null,
            "display": null,
            "flex": null,
            "flex_flow": null,
            "grid_area": null,
            "grid_auto_columns": null,
            "grid_auto_flow": null,
            "grid_auto_rows": null,
            "grid_column": null,
            "grid_gap": null,
            "grid_row": null,
            "grid_template_areas": null,
            "grid_template_columns": null,
            "grid_template_rows": null,
            "height": null,
            "justify_content": null,
            "justify_items": null,
            "left": null,
            "margin": null,
            "max_height": null,
            "max_width": null,
            "min_height": null,
            "min_width": null,
            "object_fit": null,
            "object_position": null,
            "order": null,
            "overflow": null,
            "overflow_x": null,
            "overflow_y": null,
            "padding": null,
            "right": null,
            "top": null,
            "visibility": null,
            "width": null
          }
        },
        "c52760cb1ade4e32ab53014379059a9e": {
          "model_module": "@jupyter-widgets/controls",
          "model_module_version": "1.5.0",
          "model_name": "DescriptionStyleModel",
          "state": {
            "_model_module": "@jupyter-widgets/controls",
            "_model_module_version": "1.5.0",
            "_model_name": "DescriptionStyleModel",
            "_view_count": null,
            "_view_module": "@jupyter-widgets/base",
            "_view_module_version": "1.2.0",
            "_view_name": "StyleView",
            "description_width": ""
          }
        },
        "c6521ee0c55b4f23a9c70fc907a1d939": {
          "model_module": "@jupyter-widgets/controls",
          "model_module_version": "1.5.0",
          "model_name": "HTMLModel",
          "state": {
            "_dom_classes": [],
            "_model_module": "@jupyter-widgets/controls",
            "_model_module_version": "1.5.0",
            "_model_name": "HTMLModel",
            "_view_count": null,
            "_view_module": "@jupyter-widgets/controls",
            "_view_module_version": "1.5.0",
            "_view_name": "HTMLView",
            "description": "",
            "description_tooltip": null,
            "layout": "IPY_MODEL_f65e333dd8814b098d9e58bcbfe7e5a0",
            "placeholder": "​",
            "style": "IPY_MODEL_c52760cb1ade4e32ab53014379059a9e",
            "value": " 1.17k/1.17k [00:00&lt;00:00, 14.2kB/s]"
          }
        },
        "c975373b08cc4f87a6773dcb8d705e0d": {
          "model_module": "@jupyter-widgets/base",
          "model_module_version": "1.2.0",
          "model_name": "LayoutModel",
          "state": {
            "_model_module": "@jupyter-widgets/base",
            "_model_module_version": "1.2.0",
            "_model_name": "LayoutModel",
            "_view_count": null,
            "_view_module": "@jupyter-widgets/base",
            "_view_module_version": "1.2.0",
            "_view_name": "LayoutView",
            "align_content": null,
            "align_items": null,
            "align_self": null,
            "border": null,
            "bottom": null,
            "display": null,
            "flex": null,
            "flex_flow": null,
            "grid_area": null,
            "grid_auto_columns": null,
            "grid_auto_flow": null,
            "grid_auto_rows": null,
            "grid_column": null,
            "grid_gap": null,
            "grid_row": null,
            "grid_template_areas": null,
            "grid_template_columns": null,
            "grid_template_rows": null,
            "height": null,
            "justify_content": null,
            "justify_items": null,
            "left": null,
            "margin": null,
            "max_height": null,
            "max_width": null,
            "min_height": null,
            "min_width": null,
            "object_fit": null,
            "object_position": null,
            "order": null,
            "overflow": null,
            "overflow_x": null,
            "overflow_y": null,
            "padding": null,
            "right": null,
            "top": null,
            "visibility": null,
            "width": null
          }
        },
        "d4455baa777b422784c6925646ebfc4c": {
          "model_module": "@jupyter-widgets/controls",
          "model_module_version": "1.5.0",
          "model_name": "HBoxModel",
          "state": {
            "_dom_classes": [],
            "_model_module": "@jupyter-widgets/controls",
            "_model_module_version": "1.5.0",
            "_model_name": "HBoxModel",
            "_view_count": null,
            "_view_module": "@jupyter-widgets/controls",
            "_view_module_version": "1.5.0",
            "_view_name": "HBoxView",
            "box_style": "",
            "children": [
              "IPY_MODEL_bcc5f28c00ea4303888a12335af63557",
              "IPY_MODEL_a5780ee2c9c540f19cbef8cef07510ac",
              "IPY_MODEL_f145c919f1f34729a940a4f479944ec3"
            ],
            "layout": "IPY_MODEL_e635716454f24b93bfb0b2ce904a45e4"
          }
        },
        "d674152f878041e7949279d4acf9fd2a": {
          "model_module": "@jupyter-widgets/controls",
          "model_module_version": "1.5.0",
          "model_name": "HTMLModel",
          "state": {
            "_dom_classes": [],
            "_model_module": "@jupyter-widgets/controls",
            "_model_module_version": "1.5.0",
            "_model_name": "HTMLModel",
            "_view_count": null,
            "_view_module": "@jupyter-widgets/controls",
            "_view_module_version": "1.5.0",
            "_view_name": "HTMLView",
            "description": "",
            "description_tooltip": null,
            "layout": "IPY_MODEL_f8b147a41988499dab8cd33e9d461659",
            "placeholder": "​",
            "style": "IPY_MODEL_43ceb99e964948f0a35e0e8afb4e9da0",
            "value": " 1.32M/1.32M [00:00&lt;00:00, 1.67MB/s]"
          }
        },
        "e635716454f24b93bfb0b2ce904a45e4": {
          "model_module": "@jupyter-widgets/base",
          "model_module_version": "1.2.0",
          "model_name": "LayoutModel",
          "state": {
            "_model_module": "@jupyter-widgets/base",
            "_model_module_version": "1.2.0",
            "_model_name": "LayoutModel",
            "_view_count": null,
            "_view_module": "@jupyter-widgets/base",
            "_view_module_version": "1.2.0",
            "_view_name": "LayoutView",
            "align_content": null,
            "align_items": null,
            "align_self": null,
            "border": null,
            "bottom": null,
            "display": null,
            "flex": null,
            "flex_flow": null,
            "grid_area": null,
            "grid_auto_columns": null,
            "grid_auto_flow": null,
            "grid_auto_rows": null,
            "grid_column": null,
            "grid_gap": null,
            "grid_row": null,
            "grid_template_areas": null,
            "grid_template_columns": null,
            "grid_template_rows": null,
            "height": null,
            "justify_content": null,
            "justify_items": null,
            "left": null,
            "margin": null,
            "max_height": null,
            "max_width": null,
            "min_height": null,
            "min_width": null,
            "object_fit": null,
            "object_position": null,
            "order": null,
            "overflow": null,
            "overflow_x": null,
            "overflow_y": null,
            "padding": null,
            "right": null,
            "top": null,
            "visibility": null,
            "width": null
          }
        },
        "e7bf9eaa7dbb43218c074057d4a911dc": {
          "model_module": "@jupyter-widgets/base",
          "model_module_version": "1.2.0",
          "model_name": "LayoutModel",
          "state": {
            "_model_module": "@jupyter-widgets/base",
            "_model_module_version": "1.2.0",
            "_model_name": "LayoutModel",
            "_view_count": null,
            "_view_module": "@jupyter-widgets/base",
            "_view_module_version": "1.2.0",
            "_view_name": "LayoutView",
            "align_content": null,
            "align_items": null,
            "align_self": null,
            "border": null,
            "bottom": null,
            "display": null,
            "flex": null,
            "flex_flow": null,
            "grid_area": null,
            "grid_auto_columns": null,
            "grid_auto_flow": null,
            "grid_auto_rows": null,
            "grid_column": null,
            "grid_gap": null,
            "grid_row": null,
            "grid_template_areas": null,
            "grid_template_columns": null,
            "grid_template_rows": null,
            "height": null,
            "justify_content": null,
            "justify_items": null,
            "left": null,
            "margin": null,
            "max_height": null,
            "max_width": null,
            "min_height": null,
            "min_width": null,
            "object_fit": null,
            "object_position": null,
            "order": null,
            "overflow": null,
            "overflow_x": null,
            "overflow_y": null,
            "padding": null,
            "right": null,
            "top": null,
            "visibility": null,
            "width": null
          }
        },
        "ea45211c1f2f4cf6a3727d23b89e5c6e": {
          "model_module": "@jupyter-widgets/base",
          "model_module_version": "1.2.0",
          "model_name": "LayoutModel",
          "state": {
            "_model_module": "@jupyter-widgets/base",
            "_model_module_version": "1.2.0",
            "_model_name": "LayoutModel",
            "_view_count": null,
            "_view_module": "@jupyter-widgets/base",
            "_view_module_version": "1.2.0",
            "_view_name": "LayoutView",
            "align_content": null,
            "align_items": null,
            "align_self": null,
            "border": null,
            "bottom": null,
            "display": null,
            "flex": null,
            "flex_flow": null,
            "grid_area": null,
            "grid_auto_columns": null,
            "grid_auto_flow": null,
            "grid_auto_rows": null,
            "grid_column": null,
            "grid_gap": null,
            "grid_row": null,
            "grid_template_areas": null,
            "grid_template_columns": null,
            "grid_template_rows": null,
            "height": null,
            "justify_content": null,
            "justify_items": null,
            "left": null,
            "margin": null,
            "max_height": null,
            "max_width": null,
            "min_height": null,
            "min_width": null,
            "object_fit": null,
            "object_position": null,
            "order": null,
            "overflow": null,
            "overflow_x": null,
            "overflow_y": null,
            "padding": null,
            "right": null,
            "top": null,
            "visibility": null,
            "width": null
          }
        },
        "ee7e94af0e1e4b6a91e6902bb14bf069": {
          "model_module": "@jupyter-widgets/controls",
          "model_module_version": "1.5.0",
          "model_name": "DescriptionStyleModel",
          "state": {
            "_model_module": "@jupyter-widgets/controls",
            "_model_module_version": "1.5.0",
            "_model_name": "DescriptionStyleModel",
            "_view_count": null,
            "_view_module": "@jupyter-widgets/base",
            "_view_module_version": "1.2.0",
            "_view_name": "StyleView",
            "description_width": ""
          }
        },
        "f145c919f1f34729a940a4f479944ec3": {
          "model_module": "@jupyter-widgets/controls",
          "model_module_version": "1.5.0",
          "model_name": "HTMLModel",
          "state": {
            "_dom_classes": [],
            "_model_module": "@jupyter-widgets/controls",
            "_model_module_version": "1.5.0",
            "_model_name": "HTMLModel",
            "_view_count": null,
            "_view_module": "@jupyter-widgets/controls",
            "_view_module_version": "1.5.0",
            "_view_name": "HTMLView",
            "description": "",
            "description_tooltip": null,
            "layout": "IPY_MODEL_ea45211c1f2f4cf6a3727d23b89e5c6e",
            "placeholder": "​",
            "style": "IPY_MODEL_ee7e94af0e1e4b6a91e6902bb14bf069",
            "value": " 773k/773k [00:00&lt;00:00, 1.43MB/s]"
          }
        },
        "f5a87ee2d05c48a9876d78eb9ef6c323": {
          "model_module": "@jupyter-widgets/base",
          "model_module_version": "1.2.0",
          "model_name": "LayoutModel",
          "state": {
            "_model_module": "@jupyter-widgets/base",
            "_model_module_version": "1.2.0",
            "_model_name": "LayoutModel",
            "_view_count": null,
            "_view_module": "@jupyter-widgets/base",
            "_view_module_version": "1.2.0",
            "_view_name": "LayoutView",
            "align_content": null,
            "align_items": null,
            "align_self": null,
            "border": null,
            "bottom": null,
            "display": null,
            "flex": null,
            "flex_flow": null,
            "grid_area": null,
            "grid_auto_columns": null,
            "grid_auto_flow": null,
            "grid_auto_rows": null,
            "grid_column": null,
            "grid_gap": null,
            "grid_row": null,
            "grid_template_areas": null,
            "grid_template_columns": null,
            "grid_template_rows": null,
            "height": null,
            "justify_content": null,
            "justify_items": null,
            "left": null,
            "margin": null,
            "max_height": null,
            "max_width": null,
            "min_height": null,
            "min_width": null,
            "object_fit": null,
            "object_position": null,
            "order": null,
            "overflow": null,
            "overflow_x": null,
            "overflow_y": null,
            "padding": null,
            "right": null,
            "top": null,
            "visibility": null,
            "width": null
          }
        },
        "f65e333dd8814b098d9e58bcbfe7e5a0": {
          "model_module": "@jupyter-widgets/base",
          "model_module_version": "1.2.0",
          "model_name": "LayoutModel",
          "state": {
            "_model_module": "@jupyter-widgets/base",
            "_model_module_version": "1.2.0",
            "_model_name": "LayoutModel",
            "_view_count": null,
            "_view_module": "@jupyter-widgets/base",
            "_view_module_version": "1.2.0",
            "_view_name": "LayoutView",
            "align_content": null,
            "align_items": null,
            "align_self": null,
            "border": null,
            "bottom": null,
            "display": null,
            "flex": null,
            "flex_flow": null,
            "grid_area": null,
            "grid_auto_columns": null,
            "grid_auto_flow": null,
            "grid_auto_rows": null,
            "grid_column": null,
            "grid_gap": null,
            "grid_row": null,
            "grid_template_areas": null,
            "grid_template_columns": null,
            "grid_template_rows": null,
            "height": null,
            "justify_content": null,
            "justify_items": null,
            "left": null,
            "margin": null,
            "max_height": null,
            "max_width": null,
            "min_height": null,
            "min_width": null,
            "object_fit": null,
            "object_position": null,
            "order": null,
            "overflow": null,
            "overflow_x": null,
            "overflow_y": null,
            "padding": null,
            "right": null,
            "top": null,
            "visibility": null,
            "width": null
          }
        },
        "f8b147a41988499dab8cd33e9d461659": {
          "model_module": "@jupyter-widgets/base",
          "model_module_version": "1.2.0",
          "model_name": "LayoutModel",
          "state": {
            "_model_module": "@jupyter-widgets/base",
            "_model_module_version": "1.2.0",
            "_model_name": "LayoutModel",
            "_view_count": null,
            "_view_module": "@jupyter-widgets/base",
            "_view_module_version": "1.2.0",
            "_view_name": "LayoutView",
            "align_content": null,
            "align_items": null,
            "align_self": null,
            "border": null,
            "bottom": null,
            "display": null,
            "flex": null,
            "flex_flow": null,
            "grid_area": null,
            "grid_auto_columns": null,
            "grid_auto_flow": null,
            "grid_auto_rows": null,
            "grid_column": null,
            "grid_gap": null,
            "grid_row": null,
            "grid_template_areas": null,
            "grid_template_columns": null,
            "grid_template_rows": null,
            "height": null,
            "justify_content": null,
            "justify_items": null,
            "left": null,
            "margin": null,
            "max_height": null,
            "max_width": null,
            "min_height": null,
            "min_width": null,
            "object_fit": null,
            "object_position": null,
            "order": null,
            "overflow": null,
            "overflow_x": null,
            "overflow_y": null,
            "padding": null,
            "right": null,
            "top": null,
            "visibility": null,
            "width": null
          }
        }
      }
    }
  },
  "nbformat": 4,
  "nbformat_minor": 0
}
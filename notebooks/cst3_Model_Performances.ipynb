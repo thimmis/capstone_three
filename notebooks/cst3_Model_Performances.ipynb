{
  "nbformat": 4,
  "nbformat_minor": 0,
  "metadata": {
    "colab": {
      "name": "cst3_Model_Performances.ipynb",
      "provenance": [],
      "collapsed_sections": [],
      "machine_shape": "hm"
    },
    "kernelspec": {
      "name": "python3",
      "display_name": "Python 3"
    },
    "language_info": {
      "name": "python"
    },
    "accelerator": "GPU"
  },
  "cells": [
    {
      "cell_type": "markdown",
      "source": [
        "# Model Comparison\n",
        "\n",
        "Now that a model has been trained and visual inspection done on performance between models it is time to measure the performance between models. To do this we shall be using the rouge-L to measure the similarity between the longest common subsequences of words found in the generated and target summaries. \n",
        "\n",
        "A rougeL score shall be given to each summary for both models."
      ],
      "metadata": {
        "id": "MFA39um3CphA"
      }
    },
    {
      "cell_type": "code",
      "execution_count": 1,
      "metadata": {
        "colab": {
          "base_uri": "https://localhost:8080/"
        },
        "id": "7rzug9bl7yIp",
        "outputId": "13f5d9c5-0190-4f2d-c863-b2beb15e8789"
      },
      "outputs": [
        {
          "output_type": "stream",
          "name": "stdout",
          "text": [
            "\u001b[K     |████████████████████████████████| 4.0 MB 12.4 MB/s \n",
            "\u001b[K     |████████████████████████████████| 77 kB 7.3 MB/s \n",
            "\u001b[K     |████████████████████████████████| 596 kB 56.9 MB/s \n",
            "\u001b[K     |████████████████████████████████| 895 kB 50.9 MB/s \n",
            "\u001b[K     |████████████████████████████████| 6.6 MB 64.8 MB/s \n",
            "\u001b[?25h"
          ]
        }
      ],
      "source": [
        "!pip install --quiet rouge-score transformers"
      ]
    },
    {
      "cell_type": "code",
      "source": [
        "from google.colab import drive\n",
        "drive.mount('/content/gdrive')"
      ],
      "metadata": {
        "colab": {
          "base_uri": "https://localhost:8080/"
        },
        "id": "JSwjtJK3BigJ",
        "outputId": "c6112e04-70dc-4d99-9cf5-28349eea5e53"
      },
      "execution_count": 2,
      "outputs": [
        {
          "output_type": "stream",
          "name": "stdout",
          "text": [
            "Mounted at /content/gdrive\n"
          ]
        }
      ]
    },
    {
      "cell_type": "code",
      "source": [
        "import pandas as pd\n",
        "import torch\n",
        "import pathlib\n",
        "from sklearn.model_selection import train_test_split"
      ],
      "metadata": {
        "id": "DXIZQ4RgB9je"
      },
      "execution_count": 3,
      "outputs": []
    },
    {
      "cell_type": "code",
      "source": [
        "datapath = pathlib.Path.cwd()/'gdrive/My Drive/Capstone_three/data/mtsamples'\n",
        "df = pd.read_json(datapath/'preprocessed2.jsonl', lines=True)"
      ],
      "metadata": {
        "id": "hw4CQ-TUBmlF"
      },
      "execution_count": 4,
      "outputs": []
    },
    {
      "cell_type": "code",
      "source": [
        "df_train, df_test = train_test_split(df, test_size=0.2, random_state=42)\n",
        "df_train.reset_index(drop=True, inplace=True)\n",
        "df_test.reset_index(drop=True, inplace=True)"
      ],
      "metadata": {
        "id": "EnK6J614Ebnx"
      },
      "execution_count": 5,
      "outputs": []
    },
    {
      "cell_type": "markdown",
      "source": [
        "## The Models:\n",
        "\n",
        "Here I shall be comparing the performance of the t5-small model fine-tuned on the MTSamples data for 50 epochs vs. the baseline t5-small. To measure model performance I will be using the rougeL score which measures similarity between texts based on the longest common subsequence they share."
      ],
      "metadata": {
        "id": "cyeyQ3mEmNB5"
      }
    },
    {
      "cell_type": "code",
      "source": [
        "from transformers import T5ForConditionalGeneration, T5TokenizerFast as T5Tokenizer\n",
        "device = torch.device(\"cuda:0\" if torch.cuda.is_available() else \"cpu\")\n",
        "base_model = T5ForConditionalGeneration.from_pretrained('t5-small')\n",
        "tokenizer = T5Tokenizer.from_pretrained('t5-small')\n",
        "ft_model = torch.load('/content/gdrive/MyDrive/Capstone_three/models/tuned_model.pkl')"
      ],
      "metadata": {
        "id": "yeIT2UujBoEW"
      },
      "execution_count": 13,
      "outputs": []
    },
    {
      "cell_type": "code",
      "source": [
        "def summarize(text,model):\n",
        "    text_enc = tokenizer(\n",
        "        \"summarize:\"+text+tokenizer.eos_token,\n",
        "        max_length= 512,\n",
        "        padding=\"max_length\",\n",
        "        truncation=True,\n",
        "        return_attention_mask=True,\n",
        "        add_special_tokens=True,\n",
        "        return_tensors=\"pt\"\n",
        "    )\n",
        "    generated_ids = model.generate(\n",
        "        input_ids = text_enc['input_ids'],\n",
        "        attention_mask=text_enc['attention_mask'],\n",
        "        max_length=128,\n",
        "        num_beams=4,\n",
        "        repetition_penalty = 5.5,\n",
        "        length_penalty=1.1,\n",
        "        early_stopping=True   \n",
        "    )\n",
        "    predictions = [\n",
        "        tokenizer.decode(gen_id, skip_special_tokens=True, clean_up_tokenization_spaces=True)\n",
        "        for gen_id in generated_ids\n",
        "    ]\n",
        "\n",
        "    return \"\".join(predictions)\n",
        "    "
      ],
      "metadata": {
        "id": "qiakXALdB0OC"
      },
      "execution_count": 14,
      "outputs": []
    },
    {
      "cell_type": "markdown",
      "source": [
        "set up the scorer and generate predictions and scores for each row in the testing set."
      ],
      "metadata": {
        "id": "e1AMEDF4m0Lt"
      }
    },
    {
      "cell_type": "code",
      "source": [
        "from rouge_score import rouge_scorer\n",
        "scorer = rouge_scorer.RougeScorer(['rougeL'])"
      ],
      "metadata": {
        "id": "TLO5AeNBGBMI"
      },
      "execution_count": 9,
      "outputs": []
    },
    {
      "cell_type": "code",
      "source": [
        "base_sums = []\n",
        "base_rouge = []\n",
        "ft_sums = []\n",
        "ft_rouge = []\n",
        "\n",
        "for item in df_test.index:\n",
        "    row = df_test.iloc[item]\n",
        "    bsum = summarize(row.input, base_model)\n",
        "    base_sums.append(bsum)\n",
        "    ftsum = summarize(row.input, ft_model)\n",
        "    ft_sums.append(ftsum)\n",
        "\n",
        "    brg = scorer.score(row.target,bsum)\n",
        "    base_rouge.append(brg['rougeL'])\n",
        "    ftrg = scorer.score(row.target,ftsum)\n",
        "    ft_rouge.append(ftrg['rougeL'])\n",
        "\n",
        "\n",
        "\n",
        "\n",
        "\n",
        "\n"
      ],
      "metadata": {
        "id": "nJ_LEVnaBsHw"
      },
      "execution_count": 17,
      "outputs": []
    },
    {
      "cell_type": "code",
      "source": [
        "sum_df = pd.DataFrame({'input':df_test.input.values,'target':df_test.target.values,'base_model':base_sums,'base_rougeL':base_rouge,'fine_tuned':ft_sums,'ft_rougeL':ft_rouge})"
      ],
      "metadata": {
        "id": "ilMT1lD7Yg0G"
      },
      "execution_count": 91,
      "outputs": []
    },
    {
      "cell_type": "code",
      "source": [
        "sum_df.to_csv(datapath/'summary_results.csv')"
      ],
      "metadata": {
        "id": "BJTdt8Izr0Xh"
      },
      "execution_count": 92,
      "outputs": []
    },
    {
      "cell_type": "code",
      "source": [
        "sum_df.base_rougeL = sum_df.base_rougeL.apply(lambda x: x.fmeasure)\n",
        "sum_df.ft_rougeL = sum_df.ft_rougeL.apply(lambda x: x.fmeasure)"
      ],
      "metadata": {
        "id": "caziwaKkkRuH"
      },
      "execution_count": 23,
      "outputs": []
    },
    {
      "cell_type": "code",
      "source": [
        "sum_df.base_rougeL.mean()"
      ],
      "metadata": {
        "colab": {
          "base_uri": "https://localhost:8080/"
        },
        "id": "Pbj5do6_kxSk",
        "outputId": "9b6853d1-2ad4-40e3-bf88-0f3b98ddc837"
      },
      "execution_count": 25,
      "outputs": [
        {
          "output_type": "execute_result",
          "data": {
            "text/plain": [
              "0.16385148262878682"
            ]
          },
          "metadata": {},
          "execution_count": 25
        }
      ]
    },
    {
      "cell_type": "code",
      "source": [
        "sum_df.ft_rougeL.mean()"
      ],
      "metadata": {
        "colab": {
          "base_uri": "https://localhost:8080/"
        },
        "id": "xusyjIdZlB19",
        "outputId": "888ec4b5-ff6e-4b6f-efeb-35806355bc86"
      },
      "execution_count": 26,
      "outputs": [
        {
          "output_type": "execute_result",
          "data": {
            "text/plain": [
              "0.15551224612953585"
            ]
          },
          "metadata": {},
          "execution_count": 26
        }
      ]
    },
    {
      "cell_type": "markdown",
      "source": [
        "So preliminary results suggest that the baseline model performs better. Let's bootstrap this to see how confident we are that the means are different."
      ],
      "metadata": {
        "id": "YdzkB0ibmChS"
      }
    },
    {
      "cell_type": "code",
      "source": [
        "import numpy as np"
      ],
      "metadata": {
        "id": "oTA_9UUrnId-"
      },
      "execution_count": 34,
      "outputs": []
    },
    {
      "cell_type": "code",
      "source": [
        "base_boot = []\n",
        "ft_boot = []\n",
        "\n",
        "for _ in range(10000):\n",
        "    base_boot.append(np.mean(np.random.choice(sum_df.base_rougeL.values, size=100)))\n",
        "    ft_boot.append(np.mean(np.random.choice(sum_df.ft_rougeL.values, size=100)))"
      ],
      "metadata": {
        "id": "A3lSn1_OnNER"
      },
      "execution_count": 39,
      "outputs": []
    },
    {
      "cell_type": "code",
      "source": [
        "print(f'95% CI of mean rougeL for base: [{np.quantile(base_boot, 0.025):.4f},{np.quantile(base_boot, 0.975):.4f}]')\n",
        "print(f'95% CI of mean rougeL for fine-tuned: [{np.quantile(ft_boot, 0.025):.4f},{np.quantile(ft_boot, 0.975):.4f}]')"
      ],
      "metadata": {
        "colab": {
          "base_uri": "https://localhost:8080/"
        },
        "id": "xmCOPHJXn63Q",
        "outputId": "728da625-dea4-49f0-d46b-fdfcfb8e7b03"
      },
      "execution_count": 52,
      "outputs": [
        {
          "output_type": "stream",
          "name": "stdout",
          "text": [
            "95% CI of mean rougeL for base: [0.1305,0.2006]\n",
            "95% CI of mean rougeL for fine-tuned: [0.1247,0.1907]\n"
          ]
        }
      ]
    },
    {
      "cell_type": "code",
      "source": [
        "from scipy.stats import ttest_ind"
      ],
      "metadata": {
        "id": "vMYHrN3at9cl"
      },
      "execution_count": 53,
      "outputs": []
    },
    {
      "cell_type": "code",
      "source": [
        "ttest_ind(sum_df.base_rougeL, sum_df.ft_rougeL)"
      ],
      "metadata": {
        "colab": {
          "base_uri": "https://localhost:8080/"
        },
        "id": "_hwpd_pIuEJ7",
        "outputId": "cbc24cb0-c2a8-433e-df99-8b07ef3cbd45"
      },
      "execution_count": 54,
      "outputs": [
        {
          "output_type": "execute_result",
          "data": {
            "text/plain": [
              "Ttest_indResult(statistic=0.3944989300886372, pvalue=0.6935173778712012)"
            ]
          },
          "metadata": {},
          "execution_count": 54
        }
      ]
    },
    {
      "cell_type": "markdown",
      "source": [
        "We cannot really say that there is a significant difference in the overall performance between the two models at summarizing the testing data.\n",
        "\n",
        "Let's now visually compare a the summaries of random targets."
      ],
      "metadata": {
        "id": "92ZWPWaXtu5F"
      }
    },
    {
      "cell_type": "code",
      "source": [
        "sample_df = sum_df.iloc[np.random.choice(sum_df.index, size=int(sum_df.shape[0]/10),replace=False)]"
      ],
      "metadata": {
        "id": "3Jo6IgXEnwkr"
      },
      "execution_count": 93,
      "outputs": []
    },
    {
      "cell_type": "code",
      "source": [
        "for item in sample_df.index:\n",
        "    print(f'input: {sample_df.loc[item].input}')\n",
        "    print(f'target: {sample_df.loc[item].target}')\n",
        "    print(f'base model summary:\\n{sample_df.loc[item].base_model}\\nfine-tuned model:\\n{sample_df.loc[item].fine_tuned} \\n\\n')"
      ],
      "metadata": {
        "colab": {
          "base_uri": "https://localhost:8080/"
        },
        "id": "XSM2XJafnwem",
        "outputId": "56a76302-d4e0-4799-ddb9-dcd67c1430cf"
      },
      "execution_count": 94,
      "outputs": [
        {
          "output_type": "stream",
          "name": "stdout",
          "text": [
            "input: The system review was only positive for molar pain, but rest of the 13 review of systems were negative to date..,MEASUREMENTS: Height 135 cm and weight 28.1 kg.Atraumatic and normocephalic. The pupils are equal, round, and reactive to light. Full EOMs. The conjunctivae and sclerae are clear. The TMs show normal landmarks. The nasal mucosa is pink and moist. The teeth and gums are in good condition. The pharynx is clear\n",
            "target: This is a 10-year-old with history of:1. Biliary atresia. 2. Status post orthotopic liver transplantation. 3. Dental cavities. 4. Food allergies. 5. History of urinary tract infections\n",
            "base model summary:\n",
            "system review was only positive for molar pain, but rest of the 13 systems were negative to date. conjunctivae and sclerae show normal landmarks.\n",
            "fine-tuned model:\n",
            "The system review was only positive for molar pain, but rest of the 13 review of systems were negative to date..MEASUREMENTS: Height 135 cm and weight 28.1 kg. \n",
            "\n",
            "\n",
            "input: She is awake, alert, and oriented x 3. Pupils equal and reactive\n",
            "target:  Evaluation of possible tethered cord.  She underwent a lipomyomeningocele repair at 3 days of age and then again at 3-1/2 years of age. \n",
            "base model summary:\n",
            "she is awake, alert, and oriented x 3.\n",
            "fine-tuned model:\n",
            "Pupils equal and reactive \n",
            "\n",
            "\n",
            "input: There is diffuse subcutis space edema extending along the posteromedial aspect of the elbow adjacent to the medial epicondyle, extending to the olecranon process and along the superficial aspect of the epicondylo-olecranon ligament. There is no demonstrated solid, cystic or lipomatous mass lesion. There is enlargement with hyperintense signal of the ulnar nerve within the cubital tunnel. There is inflammation with mild laxity of the epicondylo-olecranon ligament. The combined findings are most consistent with a ulnar nerve neuritis possibly secondary to a subluxing ulnar nerve however the ulnar nerve at this time is within the cubital tunnel. There is no accessory muscle within the cubital tunnel. The common flexor tendon origin is normal. Normal ulnar collateral ligamentous complex. There is mild epimysial sheath edema of the pronator teres muscle consistent with a mild epimysial sheath sprain but no muscular tear. There is minimal intratendinous inflammation of the common extensor tendon origin consistent with a mild tendinitis. There is no demonstrated common extensor tendon tear. Normal radial collateral ligamentous complex. Normal radiocapitellum and ulnotrochlear articulations. Normal triceps and biceps tendon insertions. There is peritendinous inflammation of the brachialis tendon insertion but an intrinsically normal tendon\n",
            "target: Edema of the subcutis adipose space overlying the posteromedial aspect of the elbow with interstitial inflammation of the epicondylo-olecranon ligament. Enlarged edematous ulnar nerve most compatible with ulnar nerve neuritis. The above combined findings suggest a subluxing ulnar nerve. Mild epimysial sheath strain of the pronator teres muscle but no muscular tear. Mild lateral epicondylitis with focal tendinitis of the origin of the common extensor tendon. Peritendinous edema of the brachialis tendon insertion. No solid, cystic or lipomatous mass lesion.\n",
            "base model summary:\n",
            "there is enlargement with hyperintense signal of the ulnar nerve within the cubital tunnel. there is mild epimysial sheath edema of the pronator teres muscle consistent with a mild epimysial sheath sprain but no muscular tear.\n",
            "fine-tuned model:\n",
            "Subcutis space edema along the posteromedial aspect of the elbow adjacent to the medial epicondyle, extending to the olecranon process. There is enlargement with hyperintense signal of the ulnar nerve within the cubital tunnel. The combined findings are consistent with a ulnar nerve neuritis possibly secondary to a subluxing ulnar nerve however the ulnar nerve at this time is within the cubital tunnel. \n",
            "\n",
            "\n",
            "input: Status post brain tumor with removal.The patient has mild left facial droop with decreased nasolabial fold. Tongue is at midline, and lingual range of motion and strength are within functional limit. The patient does complain of biting her tongue on occasion, but denied biting the inside of her cheeks. Her AMRs are judged to be within functional limit. Her rate of speech is decreased with a monotonous vocal quality. The decreased rate may be a compensation for decreased word retrieval ability. The patient's speech is judged to be 100% intelligible without background noise.,The patient has mild cognitive linguistic deficits in the areas of higher level cognitive function seen in mental flexibility, memory, and executive function\n",
            "target: ,The patient has mild cognitive linguistic deficits in the areas of higher level cognitive function seen in mental flexibility, memory, and executive function\n",
            "base model summary:\n",
            "the patient has mild left facial droop with decreased nasolabial fold. her speech is judged to be 100% intelligible without background noise.\n",
            "fine-tuned model:\n",
            "Left tumor with removal. Tongue is at midline, and lingual range of motion and strength are within functional limit. \n",
            "\n",
            "\n",
            "input: This 84-year old female presented recently with large ulcers of the lower extremities. These were representing on the order of 50% or more of the circumference of her lower leg. They were in a distribution to be consistent with stasis ulcers. They were granulating nicely and she was scheduled for surgery.Large ulcers of lower extremities with size as described above. These are irregular in shape and posterior and laterally on the lower legs. There was no evidence of infection. The ultimate skin grafting was quite satisfactory\n",
            "target:  Split-thickness skin grafting a total area of approximately 15 x 18 cm on the right leg and 15 x 15 cm on the left leg.\n",
            "base model summary:\n",
            "this 84-year-old female presented with large ulcers of the lower extremities. they were in a distribution to be consistent with stasis ulcers.\n",
            "fine-tuned model:\n",
            "The 84-year old female presented recently with large ulcers of the lower extremities. \n",
            "\n",
            "\n",
            "input: Face asleep.None\n",
            "target: No acute intracranial abnormalities appreciated.\n",
            "base model summary:\n",
            ".Face asleep.\n",
            "fine-tuned model:\n",
            "Face asleep in the morning. \n",
            "\n",
            "\n",
            "input: Paroxysmal atrial fibrillation.Prior to treatment for her multiple myeloma, she was able to walk four miles nonstop. Currently, she has dyspnea on exertion on the order of one block. She denies any orthopnea or paroxysmal nocturnal dyspnea. She denies any lower extremity edema. She has no symptomatic palpitations or tachycardia. She has never had presyncope or syncope. She denies any chest pain whatsoever. She denies any history of coagulopathy or bleeding diathesis. Her oncologic disorder is multiple myeloma. Pulmonary review of systems is negative for recurrent pneumonias, bronchitis, reactive airway disease, exposure to asbestos or tuberculosis. Gastrointestinal (GI) review of systems is negative for known gastroesophageal reflux disease, GI bleed, and hepatobiliary disease. Genitourinary review of systems is negative for nephrolithiasis or hematuria. Musculoskeletal review of systems is negative for significant arthralgias or myalgias. Central nervous system (CNS) review of systems is negative for tic, tremor, transient ischemic attack (TIA), seizure, or stroke. Psychiatric review of systems is negative for known affective or cognitive disorders.This is a well-nourished, well-developed white female who appears her stated age and somewhat anxious.Benign being normocephalic and atraumatic. Extraocular motions are intact. Her sclerae are anicteric and conjunctivae are noninjected. Oral mucosa is pink and moist\n",
            "target: A middle-aged white female undergoing autologous stem cell transplant for multiple myeloma, now with paroxysmal atrial fibrillation. Currently enrolled in a blinded study, where she may receive a drug for prophylaxis against mucositis, which has at least one reported incident of acceleration of preexisting tachycardia\n",
            "base model summary:\n",
            "dyspnea is on exertion on the order of one block. she denies any orthopnea or paroxysmal nocturnal dyspnea. her oncologic disorder is multiple myeloma.\n",
            "fine-tuned model:\n",
            "Multiple myeloma, she has no symptomatic palpitations or tachycardia. She denies any history of coagulopathy or syncope. She has never had presyncope or syncope. \n",
            "\n",
            "\n",
            "input: ,VITAL SIGNS: On examination, the patient has a temp of 37 degrees tympanic, pulse was recorded at 37 per minute, but subsequently it was noted to be 66 per minute, respiratory rate is 24 per minute and blood pressure is 149/66, recheck blood pressure was 132/72.Normal.Veno-occlusive crisis, and diskitis.\n",
            "target: ,Sickle cell crisis\n",
            "base model summary:\n",
            "on examination, the patient has a temp of 37 degrees tympanic, pulse was recorded at 37 per minute, but then it was noted to be 66 per minute, respiratory rate is 24 per minute and blood pressure is 149/72.\n",
            "fine-tuned model:\n",
            "On examination, the patient has a temp of 37 degrees tympanic, pulse is recorded at 37 per minute, but then it was noted to be 66 per minute and blood pressure was 149/72. \n",
            "\n",
            "\n",
            "input: The patient is a 45-year-old African-American male who suffered acute rupture of his patellar tendon diagnosed both by exam as well as x-ray the evening before surgical intervention. He did this while playing basketball. He had a massive deficit at the inferior pole of his patella on exam. Once opened, he had complete rupture of this patellar tendon as well as a complete rupture of his medial lateral retinaculum. Minimal cartilaginous pieces were at the patellar tendon. He had grade II changes to his femoral sulcus as well as grade I-II changes to the undersurface of the patella\n",
            "target:  Patellar tendon and medial and lateral retinaculum repair, right knee.   Patellar tendon retinaculum ruptures, right knee.\n",
            "base model summary:\n",
            "the patient is a 45-year-old african-American male who suffered acute rupture of his patellar tendon. he had a massive deficit at the inferior pole of his patella on exam. once opened, he had complete rupture of this patellar tendon.\n",
            "fine-tuned model:\n",
            "Abdominal patellar tendon. He also had a massive deficit at the inferior pole of his patella on exam as well as x-ray afterwards. \n",
            "\n",
            "\n",
            "input: As mentioned above. She has a history of migraine headaches associated with her menstrual cycle. She wears glasses and has a history of floaters. She reports a low-grade temperature of 99 to 100 postoperatively, mild intermittent cough, scratchy throat, (the symptoms may be secondary to intubation during surgery), intermittent right calf pain, which was described as sharp, but momentary with a negative Homans sign. The patient denies any cardiopulmonary symptoms such as chest pain, palpitation, pain in the upper neck and down to her arm, difficulty breathing, shortness of breath, or hemoptysis. She denies any nausea, vomiting, or diarrhea, but reports as being constipated with the last bowel movement being on 08/26/2007 prior to surgery. She denies urinary symptoms such as dysuria, urinary frequency, incomplete bladder emptying or voiding difficulties. First day of her last menstrual cycle was 08/23/207 and she reports that she is most likely not pregnant since her husband had a vasectomy years ago.VITAL SIGNS: At the time of admission, temperature 97.7, blood pressure 108/52, heart rate 94, respirations 18, and 95% O2 saturation on room air.Normocephalic. Sclerae are nonicteric\n",
            "target: 1. Status post right total hip replacement. The patient is admitted to the TCU at xyz's Health Services and will be seen in consultation by Physical Therapy and Occupational Therapy. 2. Postoperative anemia, Feosol 325 mg one q.d. 3. Pain management. Oxycodone SR 20 mg b.i.d. and oxycodone IR 5 mg one to two tablets q.4h. p.r.n. pain. Additionally, she will utilize ice to help decrease edema. 4. Depression and anxiety, Paxil 40 mg daily, Klonopin 1 mg q.h.s. 5. Osteoarthritis, Celebrex 200 mg b.i.d. 6\n",
            "base model summary:\n",
            "the patient denies any cardiopulmonary symptoms such as chest pain, palpitation, pain in the upper neck and down to her arm, difficulty breathing, shortness of breath or hemoptysis. she is most likely not pregnant since her husband had a vasectomy years ago.\n",
            "fine-tuned model:\n",
            ". The patient denies any nausea, vomiting or diarrhea, but reports as being constipated with the last bowel movement on 08/26/2007 prior to surgery. \n",
            "\n",
            "\n",
            "input: Unable to obtain as the patient becomes quite sleepy when I am talking.,Temperature 99.2, blood pressure ranges from 88/41 to 108/60, pulse 70, respiratory rate, 20, O2 saturation 98%. Height is 5 feet 1 inch, weight 147 pounds. On general exam, she is a pleasant elderly woman who does arouse to voice, but then becomes quite sleepy and apparently that is an improvement from when she was admitted.S1, S2 regular rate, 3/6 holosystolic murmur heard with radiation from the left apex towards the left axilla. No rub, no gallop.Soft, nondistended.EKGs are reviewed including from 07/07/09 at 08:31 a.m. which shows atrial fibrillation with left anterior fascicular block, poor R-wave progression when compared to one done on 07/06/09 at 18:25, there is really no significant change. The atrial fibrillation appears present since at least on EKG done on 11/02/07 and this EKG is not significantly changed from the most recent one. Echocardiogram results as above. Chest x-ray shows mild pulmonary vascular congestion.1. Fall assessment as per dr Z and dr XY with possible PT consult if felt appropriate and if the patient is not felt to be at significant fall risk, would put her on Coumadin. Given her history of small strokes as documented in the chart and her chronic atrial fibrillation, she does have reasonable heart rate control on current labetalol. 2. The patient has elevated BNP and I suspect that is due to her severe pulmonary hypertension and renal failure and in the light of normal LV function, I would not make any further evaluation of that other than aggressive diuresis. 3. Regarding this minimal troponin elevation, I do not feel this is a diagnosis especially in the setting of pulmonary hypertension and her small-to-moderate sized stable pericardial effusion again that has been longstanding since 2007 from what I can tell and there is no evidence of tamponade. I would defer to her usual cardiologist dr X whether an outpatient stress evaluation is appropriate for risk stratification. I did find that the patient had a prior cardiac stress test in 08/07 where they felt that there was some subtle reversibility of the anterior wall, but it was felt that it may be artifact rather than true ischemia with normal LV function seen on that study as well. 4. Continue Norvasc for history of hypertension as well as labetalol. 5. The patient is felt to be a significant fall risk and will at least continue her aspirin 81 mg once a day for secondary CVA, thromboprophylaxis (albeit understanding that it is inferior to Coumadin). 6. Continue Dilantin for history of seizures.\n",
            "target: Ms. abc is a 74-year-old woman admitted to the hospital with a fall and she has a history of vascular dementia, so her history is somewhat unreliable it seems and she is somnolent at that time. She does have chronic atrial fibrillation again documented at least present since 2007 and I found an EKG report by dr X, which shows atrial fibrillation on 08/29/07 per her report. One of the questions we were asked was whether the patient would be a candidate for Coumadin. Clearly given her history of small mini-strokes, I think Coumadin would be appropriate given this chronic atrial fibrillation, but the main issue is the fall risk. If not felt to be significant fall risk then I would strongly recommend Coumadin as the patient herself states that she has only fallen twice in the past year. I would defer that decision to dr Z and dr XY who know the patient well and it may be that physical therapy consult is appropriate to help adjudicate\n",
            "base model summary:\n",
            "atrial fibrillation appears present since at least on EKG done on 11/02/07. there is really no significant change from the most recent one.\n",
            "fine-tuned model:\n",
            "1. Atrial fibrillation with left anterior fascicular block, poor R-wave progression when compared to one done on 11/02/07 at 18:25, there is really no significant change. The patient has elevated BNP and in light of normal LV function, I would defer to her usual dr X whether an outpatient stress evaluation is appropriate for risk stratification. \n",
            "\n",
            "\n",
            "input: It appears that the patient best qualifies for a diagnosis of conversion disorder, and information from Neurology suggests that the \"seizure episodes\" are not true seizures, but appear to be pseudoseizures. The patient is experiencing quite bit of stress with a lot of changes in her life, also difficulty in functioning likely due to her developmental delay makes it difficult for her to understand.,AXIS I: Conversion disorder (300.11)\n",
            "target: It appears that the patient best qualifies for a diagnosis of conversion disorder, and information from Neurology suggests that the \"seizure episodes\" are not true seizures, but appear to be pseudoseizures. The patient is experiencing quite bit of stress with a lot of changes in her life, also difficulty in functioning likely due to her developmental delay makes it difficult for her to understand\n",
            "base model summary:\n",
            "the patient best qualifies for a diagnosis of conversion disorder. she is experiencing quite bit of stress with a lot of changes in her life.\n",
            "fine-tuned model:\n",
            "AXIS I: Conversion disorder (300.11) \n",
            "\n",
            "\n",
            "input: This is a 35-year-old Caucasian female gravida 1, para 0-0-1-0 with a history of spontaneous abortion. This patient had approximately greater than ten years of chronic pelvic pain with dysmenorrhea which has significantly affected her activities of daily living. Symptoms have not improved with prescription of oral contraceptives. The patient has had one prior surgery for a left ovarian cystectomy done by laparoscopy in 1996. The cyst was not diagnosed as an endometrioma. The patient does desire future fertility; however, would like a definitive diagnosis. Conservative medical therapy was offered i.e. Lupron or repeat oral contraceptives, but declined.Bimanual exam reveals a small retroverted uterus which is easily mobile. There were no adnexal masses. The cervix was normal on palpation. A fibrotic band was noted at the internal os during dilation. On laparoscopic exam, the uterus was found to be small with mild spongy texture. On palpation, the right ovary and adnexa were grossly normal with no evidence of endometriosis. The left ovary was grossly normal. The left fallopian tube had a mild hydrosalpinx present. The left uterosacral ligament had three to four 1 mm to 2 mm lesions that were vesicular in nature consistent with endometriosis. The vesicouterine reflection in the anterior aspect of the uterus were within normal limits as were the posterior cul-de-sac. The liver appeared grossly normal. There were no obvious pelvic adhesions. The left internal inguinal ring is somewhat patent, however, there is no bowel or viscera protruding through it\n",
            "target:  Dilation and curettage (D&C), laparoscopy, and harmonic scalpel ablation of lesion which is suspicious for endometriosis.  Chronic pelvic pain, hypermenorrhea, desire for future fertility, failed conservative medical therapy, possible adenomyosis, left hydrosalpinx, and suspicion for endometriosis.\n",
            "base model summary:\n",
            "the patient has had one prior surgery for a left ovarian cystectomy done by laparoscopy in 1996. she does desire future fertility; however, would like a definitive diagnosis. on palpation, the right ovary and adnexa were grossly normal.\n",
            "fine-tuned model:\n",
            "Left ovarian cystectomy. The patient does desire future fertility; however, would like a definitive diagnosis. \n",
            "\n",
            "\n"
          ]
        }
      ]
    },
    {
      "cell_type": "markdown",
      "source": [
        "## Conclusion:\n",
        "\n",
        "Both models seem to struggle in some cases to truly grasp the important information. However in the cases where the context is captured, the fine-tuned model seems to do a better job at distilling the important details. It either reduces the information to the necessary components or it finds additional information that was missing in the base model summary."
      ],
      "metadata": {
        "id": "TpeqK-ZY2hV1"
      }
    }
  ]
}